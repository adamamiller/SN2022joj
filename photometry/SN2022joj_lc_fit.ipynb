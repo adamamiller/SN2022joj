{
 "cells": [
  {
   "cell_type": "code",
   "execution_count": 1,
   "metadata": {
    "ExecuteTime": {
     "end_time": "2023-03-15T02:35:04.015442Z",
     "start_time": "2023-03-15T02:35:03.451607Z"
    }
   },
   "outputs": [],
   "source": [
    "import astropy.units as u\n",
    "import astropy.constants as const\n",
    "import numpy as np\n",
    "import matplotlib.pyplot as plt\n",
    "from astropy.io import fits"
   ]
  },
  {
   "cell_type": "code",
   "execution_count": 2,
   "metadata": {
    "ExecuteTime": {
     "end_time": "2023-03-15T02:35:04.679686Z",
     "start_time": "2023-03-15T02:35:04.662145Z"
    }
   },
   "outputs": [],
   "source": [
    "import matplotlib as mpl\n",
    "from matplotlib.ticker import MultipleLocator\n",
    "\n",
    "color_map = {\n",
    "    \"green1\": \"#66c2a5\",\n",
    "    \"orange\": \"#fc8d62\",\n",
    "    \"blue\": \"#8da0cb\",\n",
    "    \"pink\": \"#e78ac3\",\n",
    "    \"green2\": \"#a6d854\",\n",
    "    \"yellow\": \"#ffd92f\",\n",
    "    \"brown\": \"#e5c494\",\n",
    "    \"grey\": \"#b3b3b3\",\n",
    "}"
   ]
  },
  {
   "cell_type": "code",
   "execution_count": 3,
   "metadata": {
    "ExecuteTime": {
     "end_time": "2023-03-15T02:35:31.960619Z",
     "start_time": "2023-03-15T02:35:31.945392Z"
    }
   },
   "outputs": [],
   "source": [
    "import glob\n",
    "import os\n",
    "import sys\n",
    "sys.path.append('../tools/')\n",
    "\n",
    "from dust_extinction import calALambda\n",
    "from spec_to_flux import spec_to_flux, spec_to_mag\n",
    "from data_binning import data_binning\n",
    "from visual import rcparams_format\n",
    "\n",
    "rcparams_format(mpl.rcParams)"
   ]
  },
  {
   "attachments": {},
   "cell_type": "markdown",
   "metadata": {},
   "source": [
    "## Distance modulus"
   ]
  },
  {
   "cell_type": "code",
   "execution_count": 4,
   "metadata": {},
   "outputs": [],
   "source": [
    "# SN metadata\n",
    "\n",
    "z = 0.02736\n",
    "z_unc = 0.00007\n",
    "t_max_mjd = 59723.65 # t_0 in salt3\n",
    "ebv = 0.032\n",
    "rv = 3.1\n",
    "\n",
    "# tfl = 58972.46296299994\n"
   ]
  },
  {
   "attachments": {},
   "cell_type": "markdown",
   "metadata": {},
   "source": [
    "### IPAC velocity calculator\n",
    "\n",
    "- $z=0.02736$, $v = cz = 8202.3$ km/s, $v_\\mathrm{CMB} = 8346.4$ km/s"
   ]
  },
  {
   "attachments": {},
   "cell_type": "markdown",
   "metadata": {},
   "source": [
    "### Cosmic flow\n",
    "\n",
    "- $\\Omega_M=0.3$, $h_0=0.7$"
   ]
  },
  {
   "cell_type": "code",
   "execution_count": 5,
   "metadata": {},
   "outputs": [
    {
     "name": "stdout",
     "output_type": "stream",
     "text": [
      "Luminosity distances = 119.49 Mpc\n",
      "Distance modulus = 35.39\n"
     ]
    }
   ],
   "source": [
    "cosmo = np.loadtxt('SN2022joj_cosmo.txt')\n",
    "print('Luminosity distances =', cosmo[6], 'Mpc')\n",
    "\n",
    "mu = 5 * np.log10(cosmo[6] * 1e6 / 10)\n",
    "print('Distance modulus = {:.2f}'.format(mu))\n"
   ]
  },
  {
   "attachments": {},
   "cell_type": "markdown",
   "metadata": {},
   "source": [
    "## Light curves"
   ]
  },
  {
   "cell_type": "code",
   "execution_count": 6,
   "metadata": {},
   "outputs": [],
   "source": [
    "import pandas as pd\n",
    "from astropy.table import Table"
   ]
  },
  {
   "cell_type": "code",
   "execution_count": 7,
   "metadata": {},
   "outputs": [
    {
     "name": "stderr",
     "output_type": "stream",
     "text": [
      "/Users/chang/miniconda3/envs/astron/lib/python3.10/site-packages/pandas/core/arraylike.py:397: RuntimeWarning: invalid value encountered in log10\n",
      "  result = getattr(ufunc, method)(*inputs, **kwargs)\n",
      "/Users/chang/miniconda3/envs/astron/lib/python3.10/site-packages/pandas/core/arraylike.py:397: RuntimeWarning: invalid value encountered in log10\n",
      "  result = getattr(ufunc, method)(*inputs, **kwargs)\n",
      "/Users/chang/miniconda3/envs/astron/lib/python3.10/site-packages/pandas/core/arraylike.py:397: RuntimeWarning: invalid value encountered in log10\n",
      "  result = getattr(ufunc, method)(*inputs, **kwargs)\n"
     ]
    }
   ],
   "source": [
    "joj_ZTF = pd.read_csv('./ZTF22aajijjf_forced_fnu.csv')\n",
    "joj_ZTF['MJD'] = joj_ZTF['jd'] - 2400000.5\n",
    "joj_ZTF['phase'] = (joj_ZTF['MJD'] - t_max_mjd) / (1 + z)\n",
    "joj_ZTF['fnu_microJy'] = joj_ZTF['fnu_microJy'] * (1 + z)\n",
    "joj_ZTF['fnu_microJy_unc'] = joj_ZTF['fnu_microJy_unc'] * (1 + z)\n",
    "arg = (joj_ZTF['phase'] <= 150) & (joj_ZTF['phase'] >= -25)\n",
    "joj_ZTF = joj_ZTF[arg]\n",
    "joj_ZTF['mag'] = -2.5 * np.log10(joj_ZTF['fnu_microJy'] * 1e-6/3631)\n",
    "joj_ZTF['mag_err_u'] = -2.5 * np.log10((joj_ZTF['fnu_microJy'] - joj_ZTF['fnu_microJy_unc']) * 1e-6/3631) - joj_ZTF['mag']\n",
    "joj_ZTF['mag_err_l'] = 2.5 * np.log10((joj_ZTF['fnu_microJy'] + joj_ZTF['fnu_microJy_unc']) * 1e-6/3631) + joj_ZTF['mag']\n",
    "joj_ZTF_g = joj_ZTF[joj_ZTF['passband'] == 'ZTF_g'].assign(passband='ztfg')\n",
    "joj_ZTF_r = joj_ZTF[joj_ZTF['passband'] == 'ZTF_r'].assign(passband='ztfr')\n",
    "joj_ZTF_i = joj_ZTF[joj_ZTF['passband'] == 'ZTF_i'].assign(passband='ztfi')\n",
    "joj_ZTF = pd.concat([joj_ZTF_g, joj_ZTF_r, joj_ZTF_i])\n"
   ]
  },
  {
   "cell_type": "code",
   "execution_count": 8,
   "metadata": {},
   "outputs": [],
   "source": [
    "# joj_ZTF = joj_ZTF[~np.isnan(joj_ZTF['mag'])]\n",
    "joj_ZTF_g = joj_ZTF[joj_ZTF['passband'] == 'ztfg']\n",
    "joj_ZTF_r = joj_ZTF[joj_ZTF['passband'] == 'ztfr']\n",
    "joj_ZTF_i = joj_ZTF[joj_ZTF['passband'] == 'ztfi']"
   ]
  },
  {
   "cell_type": "code",
   "execution_count": 9,
   "metadata": {},
   "outputs": [],
   "source": [
    "# UVOT\n",
    "joj_UVOT = pd.read_csv(\n",
    "    \"./UVOT_light_curve.dat\",\n",
    "    delimiter=\" \",\n",
    "    names=[\"time\", \"flux\", \"fluxerr\", \"mag\", \"mag_unc_u\", \"mag_unc_l\", \"lim\", \"band\"],\n",
    ")\n",
    "joj_UVOT_u = joj_UVOT[joj_UVOT[\"band\"] == \"U\"]\n",
    "joj_UVOT_b = joj_UVOT[joj_UVOT[\"band\"] == \"B\"]\n",
    "joj_UVOT_v = joj_UVOT[joj_UVOT[\"band\"] == \"V\"]\n",
    "joj_UVOT_u = joj_UVOT[joj_UVOT[\"band\"] == \"U\"].assign(band=\"uvot::u\")\n",
    "joj_UVOT_b = joj_UVOT[joj_UVOT[\"band\"] == \"B\"].assign(band=\"uvot::b\")\n",
    "joj_UVOT_v = joj_UVOT[joj_UVOT[\"band\"] == \"V\"].assign(band=\"uvot::v\")\n",
    "joj_UVOT = pd.concat([joj_UVOT_b, joj_UVOT_v])"
   ]
  },
  {
   "cell_type": "code",
   "execution_count": 10,
   "metadata": {},
   "outputs": [],
   "source": [
    "# ATLAS\n",
    "joj_ATLAS = pd.read_csv(\"./atlas_forced_phot.txt\", delimiter=\" \", names=[\"MJD\", \"m\", \"dm\", \"uJy\", \"duJy\", \"F\", \"err\", \"chi/N\", \"RA\", \"Dec\", \"x\", \"y\", \"maj\", \"min\", \"phi\", \"apfit\", \"mag5sig\", \"Sky\", \"Obs\"])\n",
    "joj_ATLAS = np.loadtxt(\"./atlas_forced_phot.txt\", dtype=object)\n",
    "# joj_ATLAS = joj_ATLAS[:, [0, 2, 3, ]]\n",
    "joj_ATLAS = joj_ATLAS[:, [0, 3, 4, 5]]\n",
    "joj_ATLAS[:, :-1] = np.array(joj_ATLAS[:, :-1], dtype=float)\n",
    "joj_ATLAS_o = joj_ATLAS[joj_ATLAS[:, -1] == \"o\"]\n",
    "arg = ((joj_ATLAS_o[:, 0] - t_max_mjd) / (1 + z) <= 48) & ((joj_ATLAS_o[:, 0] - t_max_mjd) / (1 + z) >= -48)\n",
    "joj_ATLAS_o[:, -1] = \"atlaso\"\n",
    "joj_ATLAS_o = joj_ATLAS_o[arg]\n",
    "joj_ATLAS_o = pd.DataFrame(joj_ATLAS_o, columns=[\"time\", \"flux\", \"fluxerr\", \"band\"])"
   ]
  },
  {
   "attachments": {},
   "cell_type": "markdown",
   "metadata": {},
   "source": [
    "## Early rise"
   ]
  },
  {
   "cell_type": "code",
   "execution_count": 11,
   "metadata": {},
   "outputs": [],
   "source": [
    "import pymc as pm\n",
    "import arviz as az"
   ]
  },
  {
   "cell_type": "code",
   "execution_count": 12,
   "metadata": {},
   "outputs": [],
   "source": [
    "joj_ZTF_r_rise = joj_ZTF_r[\n",
    "    ((joj_ZTF_r[\"MJD\"] - t_max_mjd) / (1 + z) <= 0)\n",
    "    & ((joj_ZTF_r[\"MJD\"] - t_max_mjd) / (1 + z) >= -25)\n",
    "    & (joj_ZTF_r[\"fnu_microJy\"]/joj_ZTF_r[\"fnu_microJy\"].max() <= 0.4)\n",
    "]"
   ]
  },
  {
   "cell_type": "code",
   "execution_count": 13,
   "metadata": {},
   "outputs": [],
   "source": [
    "### MJD          m      dm   uJy   duJy F err chi/N     RA       Dec        x        y     maj  min   phi  apfit mag5sig Sky   Obs\n",
    "with open(\"./atlas_forced_phot.txt\") as f:\n",
    "    lines = f.readlines()\n",
    "joj_ATLAS = {\"MJD\":[], \"fnu_microJy\":[], \"fnu_microJy_unc\":[], \"passband\":[]}\n",
    "for l in lines[1:]:\n",
    "    dat = l.split()\n",
    "    joj_ATLAS[\"MJD\"] = np.append(joj_ATLAS[\"MJD\"], float(dat[0]))\n",
    "    joj_ATLAS[\"fnu_microJy\"] = np.append(joj_ATLAS[\"fnu_microJy\"], float(dat[3]))\n",
    "    joj_ATLAS[\"fnu_microJy_unc\"] = np.append(joj_ATLAS[\"fnu_microJy_unc\"], float(dat[4]))\n",
    "    joj_ATLAS[\"passband\"] = np.append(joj_ATLAS[\"passband\"], dat[5])\n",
    "joj_ATLAS = pd.DataFrame(joj_ATLAS)\n",
    "joj_ATLAS_o = joj_ATLAS[joj_ATLAS[\"passband\"] == \"o\"]\n",
    "joj_ATLAS_o_rise = joj_ATLAS_o[\n",
    "    ((joj_ATLAS_o[\"MJD\"] - t_max_mjd) / (1 + z) <= 0)\n",
    "    & ((joj_ATLAS_o[\"MJD\"] - t_max_mjd) / (1 + z) >= -25)\n",
    "    & (joj_ATLAS_o[\"fnu_microJy\"]/joj_ATLAS_o[\"fnu_microJy\"].max() <= 0.4)\n",
    "]"
   ]
  },
  {
   "cell_type": "code",
   "execution_count": 25,
   "metadata": {},
   "outputs": [
    {
     "name": "stderr",
     "output_type": "stream",
     "text": [
      "Auto-assigning NUTS sampler...\n",
      "Initializing NUTS using jitter+adapt_diag...\n",
      "Multiprocess sampling (4 chains in 4 jobs)\n",
      "NUTS: [t_exp, alpha_ZTF, log_A_ZTF, alpha_ATLAS, log_A_ATLAS]\n"
     ]
    },
    {
     "name": "stderr",
     "output_type": "stream",
     "text": [
      "Sampling 4 chains for 5_000 tune and 1_000 draw iterations (20_000 + 4_000 draws total) took 111 seconds.\n",
      "There were 11 divergences after tuning. Increase `target_accept` or reparameterize.\n",
      "There were 17 divergences after tuning. Increase `target_accept` or reparameterize.\n",
      "There were 8 divergences after tuning. Increase `target_accept` or reparameterize.\n",
      "There were 8 divergences after tuning. Increase `target_accept` or reparameterize.\n",
      "There were 11 divergences after tuning. Increase `target_accept` or reparameterize.\n",
      "There were 17 divergences after tuning. Increase `target_accept` or reparameterize.\n",
      "There were 8 divergences after tuning. Increase `target_accept` or reparameterize.\n",
      "There were 8 divergences after tuning. Increase `target_accept` or reparameterize.\n",
      "Auto-assigning NUTS sampler...\n",
      "Initializing NUTS using jitter+adapt_diag...\n",
      "Multiprocess sampling (4 chains in 4 jobs)\n",
      "NUTS: [t_exp, log_A_ZTF, log_A_ATLAS]\n"
     ]
    },
    {
     "name": "stderr",
     "output_type": "stream",
     "text": [
      "Sampling 4 chains for 2_000 tune and 1_000 draw iterations (8_000 + 4_000 draws total) took 16 seconds.\n"
     ]
    }
   ],
   "source": [
    "MJD_pred = np.linspace(-25, -10, 100) + t_max_mjd\n",
    "with pm.Model() as rise_MJD:\n",
    "    t_exp = pm.Uniform(\n",
    "        \"t_exp\", joj_ZTF_r_rise[\"MJD\"].values[0], joj_ZTF_r_rise[\"MJD\"].values[-1]\n",
    "    )\n",
    "    alpha_ZTF = pm.Normal(\"alpha_ZTF\", 2, 1)\n",
    "    log_A_ZTF = pm.Uniform(\"log_A_ZTF\", 0, 2)\n",
    "    phase_ZTF = joj_ZTF_r_rise[\"MJD\"].values - t_exp\n",
    "    flux_ZTF = pm.Deterministic(\n",
    "        \"flux_ZTF\", 10**log_A_ZTF * ((phase_ZTF + np.abs(phase_ZTF)) / 2) ** alpha_ZTF\n",
    "    )\n",
    "    alpha_ATLAS = pm.Normal(\"alpha_ATLAS\", 2, 1)\n",
    "    log_A_ATLAS = pm.Uniform(\"log_A_ATLAS\", 0, 2)\n",
    "    phase_ATLAS = joj_ATLAS_o_rise[\"MJD\"].values - t_exp\n",
    "    flux_ATLAS = pm.Deterministic(\n",
    "        \"flux_ATLAS\",\n",
    "        10**log_A_ATLAS * ((phase_ATLAS + np.abs(phase_ATLAS)) / 2) ** alpha_ATLAS,\n",
    "    )\n",
    "    flux_obs_ZTF = pm.Normal(\n",
    "        \"flux_obs_ZTF\",\n",
    "        flux_ZTF,\n",
    "        joj_ZTF_r_rise[\"fnu_microJy_unc\"].values,\n",
    "        observed=joj_ZTF_r_rise[\"fnu_microJy\"].values,\n",
    "    )\n",
    "    flux_obs_ATLAS = pm.Normal(\n",
    "        \"flux_obs_ATLAS\",\n",
    "        flux_ATLAS,\n",
    "        joj_ATLAS_o_rise[\"fnu_microJy_unc\"].values,\n",
    "        observed=joj_ATLAS_o_rise[\"fnu_microJy\"].values,\n",
    "    )\n",
    "    flux_pred_ZTF = pm.Deterministic(\n",
    "        \"flux_pred_ZTF\",\n",
    "        10**log_A_ZTF\n",
    "        * (((MJD_pred - t_exp) + np.abs(MJD_pred - t_exp)) / 2) ** alpha_ZTF,\n",
    "    )\n",
    "    flux_pred_ATLAS = pm.Deterministic(\n",
    "        \"flux_pred_ATLAS\",\n",
    "        10**log_A_ATLAS\n",
    "        * (((MJD_pred - t_exp) + np.abs(MJD_pred - t_exp)) / 2) ** alpha_ATLAS,\n",
    "    )\n",
    "    trace_MJD = pm.sample(return_inferencedata=True, tune=5000, target_accept=0.95)\n",
    "\n",
    "with pm.Model() as rise_alpha2_MJD:\n",
    "    t_exp = pm.Uniform(\n",
    "        \"t_exp\", joj_ZTF_r_rise[\"MJD\"].values[0], joj_ZTF_r_rise[\"MJD\"].values[-1]\n",
    "    )\n",
    "    alpha_ZTF = 2\n",
    "    log_A_ZTF = pm.Uniform(\"log_A_ZTF\", 0, 2)\n",
    "    phase_ZTF = (joj_ZTF_r_rise[\"MJD\"].values - t_exp)\n",
    "    flux_ZTF = pm.Deterministic(\n",
    "        \"flux_ZTF\", 10**log_A_ZTF * ((phase_ZTF + np.abs(phase_ZTF)) / 2) ** alpha_ZTF\n",
    "    )\n",
    "    alpha_ATLAS = 2\n",
    "    log_A_ATLAS = pm.Uniform(\"log_A_ATLAS\", 0, 2)\n",
    "    phase_ATLAS = (joj_ATLAS_o_rise[\"MJD\"].values - t_exp)\n",
    "    flux_ATLAS = pm.Deterministic(\n",
    "        \"flux_ATLAS\",\n",
    "        10**log_A_ATLAS * ((phase_ATLAS + np.abs(phase_ATLAS)) / 2) ** alpha_ATLAS,\n",
    "    )\n",
    "    flux_obs_ZTF = pm.Normal(\n",
    "        \"flux_obs_ZTF\",\n",
    "        flux_ZTF,\n",
    "        joj_ZTF_r_rise[\"fnu_microJy_unc\"].values,\n",
    "        observed=joj_ZTF_r_rise[\"fnu_microJy\"].values,\n",
    "    )\n",
    "    flux_obs_ATLAS = pm.Normal(\n",
    "        \"flux_obs_ATLAS\",\n",
    "        flux_ATLAS,\n",
    "        joj_ATLAS_o_rise[\"fnu_microJy_unc\"].values,\n",
    "        observed=joj_ATLAS_o_rise[\"fnu_microJy\"].values,\n",
    "    )\n",
    "    flux_pred_ZTF = pm.Deterministic(\n",
    "        \"flux_pred_ZTF\",\n",
    "        10**log_A_ZTF\n",
    "        * (((MJD_pred - t_exp) + np.abs(MJD_pred - t_exp)) / 2) ** alpha_ZTF,\n",
    "    )\n",
    "    flux_pred_ATLAS = pm.Deterministic(\n",
    "        \"flux_pred_ATLAS\",\n",
    "        10**log_A_ATLAS\n",
    "        * (((MJD_pred - t_exp) + np.abs(MJD_pred - t_exp)) / 2)\n",
    "        ** alpha_ATLAS,\n",
    "    )\n",
    "    trace_MJD_alpha2 = pm.sample(return_inferencedata=True, tune=2000)"
   ]
  },
  {
   "cell_type": "code",
   "execution_count": 26,
   "metadata": {},
   "outputs": [
    {
     "name": "stderr",
     "output_type": "stream",
     "text": [
      "/Users/chang/miniconda3/envs/astron/lib/python3.10/site-packages/arviz/stats/diagnostics.py:586: RuntimeWarning: invalid value encountered in double_scalars\n",
      "  (between_chain_variance / within_chain_variance + num_samples - 1) / (num_samples)\n",
      "/Users/chang/miniconda3/envs/astron/lib/python3.10/site-packages/arviz/stats/diagnostics.py:586: RuntimeWarning: invalid value encountered in double_scalars\n",
      "  (between_chain_variance / within_chain_variance + num_samples - 1) / (num_samples)\n"
     ]
    },
    {
     "data": {
      "text/html": [
       "<div>\n",
       "<style scoped>\n",
       "    .dataframe tbody tr th:only-of-type {\n",
       "        vertical-align: middle;\n",
       "    }\n",
       "\n",
       "    .dataframe tbody tr th {\n",
       "        vertical-align: top;\n",
       "    }\n",
       "\n",
       "    .dataframe thead th {\n",
       "        text-align: right;\n",
       "    }\n",
       "</style>\n",
       "<table border=\"1\" class=\"dataframe\">\n",
       "  <thead>\n",
       "    <tr style=\"text-align: right;\">\n",
       "      <th></th>\n",
       "      <th>mean</th>\n",
       "      <th>sd</th>\n",
       "      <th>hdi_16%</th>\n",
       "      <th>hdi_84%</th>\n",
       "      <th>mcse_mean</th>\n",
       "      <th>mcse_sd</th>\n",
       "      <th>ess_bulk</th>\n",
       "      <th>ess_tail</th>\n",
       "      <th>r_hat</th>\n",
       "    </tr>\n",
       "  </thead>\n",
       "  <tbody>\n",
       "    <tr>\n",
       "      <th>alpha_ZTF</th>\n",
       "      <td>2.179</td>\n",
       "      <td>0.209</td>\n",
       "      <td>1.944</td>\n",
       "      <td>2.384</td>\n",
       "      <td>0.008</td>\n",
       "      <td>0.005</td>\n",
       "      <td>749.0</td>\n",
       "      <td>970.0</td>\n",
       "      <td>1.0</td>\n",
       "    </tr>\n",
       "    <tr>\n",
       "      <th>alpha_ATLAS</th>\n",
       "      <td>2.312</td>\n",
       "      <td>0.360</td>\n",
       "      <td>2.113</td>\n",
       "      <td>2.789</td>\n",
       "      <td>0.012</td>\n",
       "      <td>0.008</td>\n",
       "      <td>939.0</td>\n",
       "      <td>1112.0</td>\n",
       "      <td>1.0</td>\n",
       "    </tr>\n",
       "    <tr>\n",
       "      <th>t_exp</th>\n",
       "      <td>59703.158</td>\n",
       "      <td>0.600</td>\n",
       "      <td>59702.583</td>\n",
       "      <td>59703.855</td>\n",
       "      <td>0.022</td>\n",
       "      <td>0.015</td>\n",
       "      <td>761.0</td>\n",
       "      <td>1100.0</td>\n",
       "      <td>1.0</td>\n",
       "    </tr>\n",
       "    <tr>\n",
       "      <th>log_A_ZTF</th>\n",
       "      <td>0.567</td>\n",
       "      <td>0.258</td>\n",
       "      <td>0.321</td>\n",
       "      <td>0.866</td>\n",
       "      <td>0.009</td>\n",
       "      <td>0.007</td>\n",
       "      <td>746.0</td>\n",
       "      <td>983.0</td>\n",
       "      <td>1.0</td>\n",
       "    </tr>\n",
       "    <tr>\n",
       "      <th>log_A_ATLAS</th>\n",
       "      <td>0.446</td>\n",
       "      <td>0.327</td>\n",
       "      <td>0.000</td>\n",
       "      <td>0.560</td>\n",
       "      <td>0.011</td>\n",
       "      <td>0.008</td>\n",
       "      <td>833.0</td>\n",
       "      <td>1069.0</td>\n",
       "      <td>1.0</td>\n",
       "    </tr>\n",
       "  </tbody>\n",
       "</table>\n",
       "</div>"
      ],
      "text/plain": [
       "                  mean     sd    hdi_16%    hdi_84%  mcse_mean  mcse_sd  \\\n",
       "alpha_ZTF        2.179  0.209      1.944      2.384      0.008    0.005   \n",
       "alpha_ATLAS      2.312  0.360      2.113      2.789      0.012    0.008   \n",
       "t_exp        59703.158  0.600  59702.583  59703.855      0.022    0.015   \n",
       "log_A_ZTF        0.567  0.258      0.321      0.866      0.009    0.007   \n",
       "log_A_ATLAS      0.446  0.327      0.000      0.560      0.011    0.008   \n",
       "\n",
       "             ess_bulk  ess_tail  r_hat  \n",
       "alpha_ZTF       749.0     970.0    1.0  \n",
       "alpha_ATLAS     939.0    1112.0    1.0  \n",
       "t_exp           761.0    1100.0    1.0  \n",
       "log_A_ZTF       746.0     983.0    1.0  \n",
       "log_A_ATLAS     833.0    1069.0    1.0  "
      ]
     },
     "execution_count": 26,
     "metadata": {},
     "output_type": "execute_result"
    }
   ],
   "source": [
    "summary = az.summary(trace_MJD, hdi_prob=0.68, var_names=[var for var in trace_MJD.posterior.data_vars if not 'flux' in var])\n",
    "summary_pred = az.summary(trace_MJD, hdi_prob=0.68, var_names=[var for var in trace_MJD.posterior.data_vars if 'pred' in var])\n",
    "summary"
   ]
  },
  {
   "cell_type": "code",
   "execution_count": 24,
   "metadata": {},
   "outputs": [
    {
     "name": "stderr",
     "output_type": "stream",
     "text": [
      "/Users/chang/miniconda3/envs/astron/lib/python3.10/site-packages/arviz/stats/diagnostics.py:586: RuntimeWarning: invalid value encountered in double_scalars\n",
      "  (between_chain_variance / within_chain_variance + num_samples - 1) / (num_samples)\n",
      "/Users/chang/miniconda3/envs/astron/lib/python3.10/site-packages/arviz/stats/diagnostics.py:586: RuntimeWarning: invalid value encountered in double_scalars\n",
      "  (between_chain_variance / within_chain_variance + num_samples - 1) / (num_samples)\n"
     ]
    },
    {
     "data": {
      "text/html": [
       "<div>\n",
       "<style scoped>\n",
       "    .dataframe tbody tr th:only-of-type {\n",
       "        vertical-align: middle;\n",
       "    }\n",
       "\n",
       "    .dataframe tbody tr th {\n",
       "        vertical-align: top;\n",
       "    }\n",
       "\n",
       "    .dataframe thead th {\n",
       "        text-align: right;\n",
       "    }\n",
       "</style>\n",
       "<table border=\"1\" class=\"dataframe\">\n",
       "  <thead>\n",
       "    <tr style=\"text-align: right;\">\n",
       "      <th></th>\n",
       "      <th>mean</th>\n",
       "      <th>sd</th>\n",
       "      <th>hdi_16%</th>\n",
       "      <th>hdi_84%</th>\n",
       "      <th>mcse_mean</th>\n",
       "      <th>mcse_sd</th>\n",
       "      <th>ess_bulk</th>\n",
       "      <th>ess_tail</th>\n",
       "      <th>r_hat</th>\n",
       "    </tr>\n",
       "  </thead>\n",
       "  <tbody>\n",
       "    <tr>\n",
       "      <th>t_exp</th>\n",
       "      <td>59703.658</td>\n",
       "      <td>0.111</td>\n",
       "      <td>59703.548</td>\n",
       "      <td>59703.765</td>\n",
       "      <td>0.003</td>\n",
       "      <td>0.002</td>\n",
       "      <td>1151.0</td>\n",
       "      <td>1307.0</td>\n",
       "      <td>1.0</td>\n",
       "    </tr>\n",
       "    <tr>\n",
       "      <th>log_A_ZTF</th>\n",
       "      <td>0.788</td>\n",
       "      <td>0.015</td>\n",
       "      <td>0.774</td>\n",
       "      <td>0.804</td>\n",
       "      <td>0.000</td>\n",
       "      <td>0.000</td>\n",
       "      <td>1144.0</td>\n",
       "      <td>1160.0</td>\n",
       "      <td>1.0</td>\n",
       "    </tr>\n",
       "    <tr>\n",
       "      <th>log_A_ATLAS</th>\n",
       "      <td>0.778</td>\n",
       "      <td>0.023</td>\n",
       "      <td>0.757</td>\n",
       "      <td>0.802</td>\n",
       "      <td>0.001</td>\n",
       "      <td>0.000</td>\n",
       "      <td>1448.0</td>\n",
       "      <td>1594.0</td>\n",
       "      <td>1.0</td>\n",
       "    </tr>\n",
       "  </tbody>\n",
       "</table>\n",
       "</div>"
      ],
      "text/plain": [
       "                  mean     sd    hdi_16%    hdi_84%  mcse_mean  mcse_sd  \\\n",
       "t_exp        59703.658  0.111  59703.548  59703.765      0.003    0.002   \n",
       "log_A_ZTF        0.788  0.015      0.774      0.804      0.000    0.000   \n",
       "log_A_ATLAS      0.778  0.023      0.757      0.802      0.001    0.000   \n",
       "\n",
       "             ess_bulk  ess_tail  r_hat  \n",
       "t_exp          1151.0    1307.0    1.0  \n",
       "log_A_ZTF      1144.0    1160.0    1.0  \n",
       "log_A_ATLAS    1448.0    1594.0    1.0  "
      ]
     },
     "execution_count": 24,
     "metadata": {},
     "output_type": "execute_result"
    }
   ],
   "source": [
    "summary_alpha2 = az.summary(trace_MJD_alpha2, hdi_prob=0.68, var_names=[var for var in trace_MJD_alpha2.posterior.data_vars if not 'flux' in var])\n",
    "summary_alpha2_pred = az.summary(trace_MJD_alpha2, hdi_prob=0.68, var_names=[var for var in trace_MJD_alpha2.posterior.data_vars if 'pred' in var])\n",
    "summary_alpha2"
   ]
  },
  {
   "cell_type": "code",
   "execution_count": 20,
   "metadata": {},
   "outputs": [
    {
     "data": {
      "text/plain": [
       "19.461532471576444"
      ]
     },
     "execution_count": 20,
     "metadata": {},
     "output_type": "execute_result"
    }
   ],
   "source": [
    "t_fl_mjd = 59703.136\n",
    "t_fl_mjd_up, t_fl_mjd_lo = 59703.759, 59702.566\n",
    "t_max_mjd_B = 59723.13\n",
    "rise_time = (t_max_mjd_B - t_fl_mjd) / (1 + z)\n",
    "rise_time"
   ]
  },
  {
   "cell_type": "code",
   "execution_count": 27,
   "metadata": {},
   "outputs": [
    {
     "data": {
      "text/plain": [
       "(-50.0, 550.0)"
      ]
     },
     "execution_count": 27,
     "metadata": {},
     "output_type": "execute_result"
    },
    {
     "data": {
      "image/png": "[encoded data removed]",
      "text/plain": [
       "<Figure size 576x432 with 2 Axes>"
      ]
     },
     "metadata": {
      "needs_background": "light"
     },
     "output_type": "display_data"
    }
   ],
   "source": [
    "fig, ax = plt.subplots(2, 1, figsize=(8, 6), sharex=True, constrained_layout=True)\n",
    "pred_ZTF = summary_pred.loc[summary_pred.index[:100]]\n",
    "pred_ATLAS = summary_pred.loc[summary_pred.index[100:]]\n",
    "ax[0].plot((MJD_pred - t_max_mjd_B) / (1 + z), pred_ZTF[\"mean\"], color=\"k\")\n",
    "ax[0].fill_between(\n",
    "    (MJD_pred - t_max_mjd_B) / (1 + z), pred_ZTF[\"hdi_16%\"], pred_ZTF[\"hdi_84%\"], color=\"0.5\", alpha=0.5\n",
    ")\n",
    "ax[0].errorbar(\n",
    "    (joj_ZTF_r_rise[\"MJD\"].values - t_max_mjd_B) / (1 + z),\n",
    "    joj_ZTF_r_rise[\"fnu_microJy\"].values,\n",
    "    yerr=joj_ZTF_r_rise[\"fnu_microJy_unc\"].values,\n",
    "    fmt=\"o\",\n",
    ")\n",
    "ax[1].plot((MJD_pred - t_max_mjd_B) / (1 + z), pred_ATLAS[\"mean\"], color=\"k\")\n",
    "ax[1].fill_between(\n",
    "    (MJD_pred - t_max_mjd_B) / (1 + z), pred_ATLAS[\"hdi_16%\"], pred_ATLAS[\"hdi_84%\"], color=\"0.5\", alpha=0.5\n",
    ")\n",
    "ax[1].errorbar(\n",
    "    (joj_ATLAS_o_rise[\"MJD\"].values - t_max_mjd_B) / (1 + z),\n",
    "    joj_ATLAS_o_rise[\"fnu_microJy\"].values,\n",
    "    yerr=joj_ATLAS_o_rise[\"fnu_microJy_unc\"].values,\n",
    "    fmt=\"o\",\n",
    ")\n",
    "# plt.yscale('log')\n",
    "plt.xlim(-25, -10)\n",
    "ax[0].set_ylim(-50, 550)\n",
    "ax[1].set_ylim(-50, 550)\n",
    "# plt.yscale(\"log\")"
   ]
  },
  {
   "attachments": {},
   "cell_type": "markdown",
   "metadata": {},
   "source": [
    "### Polynomial"
   ]
  },
  {
   "cell_type": "code",
   "execution_count": 86,
   "metadata": {},
   "outputs": [],
   "source": [
    "def peak_poly_fit(MJD, mag_obs, mag_obs_unc, z=0, t_max_0=59723):\n",
    "    MJD_pred = np.linspace(-10, 20, 100) + t_max_0\n",
    "    with pm.Model() as peak:\n",
    "        # t_max = pm.Uniform(\"t_max\", 59721, 59724)\n",
    "        t_max = pm.Normal(\"t_max\", t_max_0, 5)\n",
    "\n",
    "        a4 = pm.Uniform(\"a4\", -1e-2, 1e-2)\n",
    "        a3 = pm.Uniform(\"a3\", -1e-2, 1e-2)\n",
    "        a2 = pm.Uniform(\"a2\", -1e-2, 1e-2)\n",
    "        a0 = pm.Uniform(\"a0\", mag_obs.min() - 0.5, mag_obs.min() + 0.5)\n",
    "\n",
    "        phase = (MJD - t_max) / (1 + z)\n",
    "        phase_pred = (MJD_pred - t_max) / (1 + z)\n",
    "        mag = pm.Deterministic(\n",
    "            \"mag\",\n",
    "            a4 * phase**4 + a3 * phase**3 + a2 * phase**2 + a0,\n",
    "        )\n",
    "        mag_obs = pm.Normal(\"mag_obs\", mag, mag_obs_unc, observed=mag_obs)\n",
    "        mag_pred = pm.Deterministic(\n",
    "            \"mag_pred\",\n",
    "            a4 * phase_pred**4 + a3 * phase_pred**3 + a2 * phase_pred**2 + a0,\n",
    "        )\n",
    "        dt = 15\n",
    "        delta_m_15 = pm.Deterministic(\n",
    "            \"delta_m_15\", a4 * dt**4 + a3 * dt**3 + a2 * dt**2\n",
    "        )\n",
    "        trace_peak = pm.sample(return_inferencedata=True, tune=2000)\n",
    "    return trace_peak"
   ]
  },
  {
   "cell_type": "code",
   "execution_count": 87,
   "metadata": {},
   "outputs": [
    {
     "name": "stderr",
     "output_type": "stream",
     "text": [
      "Auto-assigning NUTS sampler...\n",
      "Initializing NUTS using jitter+adapt_diag...\n",
      "Multiprocess sampling (4 chains in 4 jobs)\n",
      "NUTS: [t_max, a4, a3, a2, a0]\n"
     ]
    },
    {
     "name": "stderr",
     "output_type": "stream",
     "text": [
      "Sampling 4 chains for 2_000 tune and 1_000 draw iterations (8_000 + 4_000 draws total) took 28 seconds.\n",
      "The acceptance probability does not match the target. It is 0.8944, but should be close to 0.8. Try to increase the number of tuning steps.\n",
      "There were 4 divergences after tuning. Increase `target_accept` or reparameterize.\n",
      "The acceptance probability does not match the target. It is 0.8944, but should be close to 0.8. Try to increase the number of tuning steps.\n",
      "There were 4 divergences after tuning. Increase `target_accept` or reparameterize.\n",
      "Auto-assigning NUTS sampler...\n",
      "Initializing NUTS using jitter+adapt_diag...\n",
      "Multiprocess sampling (4 chains in 4 jobs)\n",
      "NUTS: [t_max, a4, a3, a2, a0]\n"
     ]
    },
    {
     "name": "stderr",
     "output_type": "stream",
     "text": [
      "Sampling 4 chains for 2_000 tune and 1_000 draw iterations (8_000 + 4_000 draws total) took 19 seconds.\n"
     ]
    }
   ],
   "source": [
    "joj_ZTF_g_peak = joj_ZTF_g[\n",
    "    ((joj_ZTF_g[\"MJD\"] - 59723.94) / (1 + z) <= 20)\n",
    "    & ((joj_ZTF_g[\"MJD\"] - 59723.94) / (1 + z) >= -10)\n",
    "]\n",
    "joj_ZTF_r_peak = joj_ZTF_r[\n",
    "    ((joj_ZTF_r[\"MJD\"] - 59725.05) / (1 + z) <= 10)\n",
    "    & ((joj_ZTF_r[\"MJD\"] - 59725.05) / (1 + z) >= -10)\n",
    "]\n",
    "\n",
    "trace_peak_g = peak_poly_fit(\n",
    "    MJD=joj_ZTF_g_peak[\"MJD\"].values,\n",
    "    mag_obs=joj_ZTF_g_peak[\"mag\"].values,\n",
    "    mag_obs_unc=joj_ZTF_g_peak[\"mag_err_l\"].values,\n",
    "    z=z,\n",
    "    t_max_0=59723.94\n",
    ")\n",
    "trace_peak_r = peak_poly_fit(\n",
    "    MJD=joj_ZTF_r_peak[\"MJD\"].values,\n",
    "    mag_obs=joj_ZTF_r_peak[\"mag\"].values,\n",
    "    mag_obs_unc=joj_ZTF_r_peak[\"mag_err_l\"].values,\n",
    "    z=z,\n",
    "    t_max_0=59725.05\n",
    ")"
   ]
  },
  {
   "cell_type": "code",
   "execution_count": 88,
   "metadata": {},
   "outputs": [
    {
     "data": {
      "text/html": [
       "<div>\n",
       "<style scoped>\n",
       "    .dataframe tbody tr th:only-of-type {\n",
       "        vertical-align: middle;\n",
       "    }\n",
       "\n",
       "    .dataframe tbody tr th {\n",
       "        vertical-align: top;\n",
       "    }\n",
       "\n",
       "    .dataframe thead th {\n",
       "        text-align: right;\n",
       "    }\n",
       "</style>\n",
       "<table border=\"1\" class=\"dataframe\">\n",
       "  <thead>\n",
       "    <tr style=\"text-align: right;\">\n",
       "      <th></th>\n",
       "      <th>mean</th>\n",
       "      <th>sd</th>\n",
       "      <th>hdi_16%</th>\n",
       "      <th>hdi_84%</th>\n",
       "      <th>mcse_mean</th>\n",
       "      <th>mcse_sd</th>\n",
       "      <th>ess_bulk</th>\n",
       "      <th>ess_tail</th>\n",
       "      <th>r_hat</th>\n",
       "    </tr>\n",
       "  </thead>\n",
       "  <tbody>\n",
       "    <tr>\n",
       "      <th>t_max</th>\n",
       "      <td>59722.676373</td>\n",
       "      <td>0.205075</td>\n",
       "      <td>59722.483590</td>\n",
       "      <td>59722.885401</td>\n",
       "      <td>5.382430e-03</td>\n",
       "      <td>3.806720e-03</td>\n",
       "      <td>1470.868596</td>\n",
       "      <td>1461.838058</td>\n",
       "      <td>1.000662</td>\n",
       "    </tr>\n",
       "    <tr>\n",
       "      <th>a4</th>\n",
       "      <td>0.000006</td>\n",
       "      <td>0.000003</td>\n",
       "      <td>0.000004</td>\n",
       "      <td>0.000009</td>\n",
       "      <td>1.000000e-07</td>\n",
       "      <td>7.000000e-08</td>\n",
       "      <td>742.077105</td>\n",
       "      <td>1020.373893</td>\n",
       "      <td>1.005979</td>\n",
       "    </tr>\n",
       "    <tr>\n",
       "      <th>a3</th>\n",
       "      <td>-0.000343</td>\n",
       "      <td>0.000083</td>\n",
       "      <td>-0.000419</td>\n",
       "      <td>-0.000255</td>\n",
       "      <td>3.170000e-06</td>\n",
       "      <td>2.240000e-06</td>\n",
       "      <td>690.922481</td>\n",
       "      <td>906.303485</td>\n",
       "      <td>1.007342</td>\n",
       "    </tr>\n",
       "    <tr>\n",
       "      <th>a2</th>\n",
       "      <td>0.008305</td>\n",
       "      <td>0.000677</td>\n",
       "      <td>0.007701</td>\n",
       "      <td>0.009028</td>\n",
       "      <td>2.542000e-05</td>\n",
       "      <td>1.799000e-05</td>\n",
       "      <td>711.832662</td>\n",
       "      <td>783.777173</td>\n",
       "      <td>1.008329</td>\n",
       "    </tr>\n",
       "    <tr>\n",
       "      <th>a0</th>\n",
       "      <td>15.814659</td>\n",
       "      <td>0.013797</td>\n",
       "      <td>15.801554</td>\n",
       "      <td>15.828871</td>\n",
       "      <td>4.315000e-04</td>\n",
       "      <td>3.052100e-04</td>\n",
       "      <td>1025.296808</td>\n",
       "      <td>1077.569176</td>\n",
       "      <td>1.004417</td>\n",
       "    </tr>\n",
       "    <tr>\n",
       "      <th>delta_m_15</th>\n",
       "      <td>1.028007</td>\n",
       "      <td>0.028317</td>\n",
       "      <td>0.997952</td>\n",
       "      <td>1.053564</td>\n",
       "      <td>5.783800e-04</td>\n",
       "      <td>4.106400e-04</td>\n",
       "      <td>2426.116041</td>\n",
       "      <td>2522.069688</td>\n",
       "      <td>1.001546</td>\n",
       "    </tr>\n",
       "  </tbody>\n",
       "</table>\n",
       "</div>"
      ],
      "text/plain": [
       "                    mean        sd       hdi_16%       hdi_84%     mcse_mean  \\\n",
       "t_max       59722.676373  0.205075  59722.483590  59722.885401  5.382430e-03   \n",
       "a4              0.000006  0.000003      0.000004      0.000009  1.000000e-07   \n",
       "a3             -0.000343  0.000083     -0.000419     -0.000255  3.170000e-06   \n",
       "a2              0.008305  0.000677      0.007701      0.009028  2.542000e-05   \n",
       "a0             15.814659  0.013797     15.801554     15.828871  4.315000e-04   \n",
       "delta_m_15      1.028007  0.028317      0.997952      1.053564  5.783800e-04   \n",
       "\n",
       "                 mcse_sd     ess_bulk     ess_tail     r_hat  \n",
       "t_max       3.806720e-03  1470.868596  1461.838058  1.000662  \n",
       "a4          7.000000e-08   742.077105  1020.373893  1.005979  \n",
       "a3          2.240000e-06   690.922481   906.303485  1.007342  \n",
       "a2          1.799000e-05   711.832662   783.777173  1.008329  \n",
       "a0          3.052100e-04  1025.296808  1077.569176  1.004417  \n",
       "delta_m_15  4.106400e-04  2426.116041  2522.069688  1.001546  "
      ]
     },
     "execution_count": 88,
     "metadata": {},
     "output_type": "execute_result"
    }
   ],
   "source": [
    "summary_g_peak = az.summary(\n",
    "    trace_peak_g,\n",
    "    hdi_prob=0.68,\n",
    "    round_to=8,\n",
    "    var_names=[var for var in trace_peak_g.posterior.data_vars if not \"mag\" in var],\n",
    ")\n",
    "summary_pred_g_peak = az.summary(\n",
    "    trace_peak_g,\n",
    "    hdi_prob=0.68,\n",
    "    var_names=[var for var in trace_peak_g.posterior.data_vars if \"pred\" in var],\n",
    ")\n",
    "summary_g_peak"
   ]
  },
  {
   "cell_type": "code",
   "execution_count": 89,
   "metadata": {},
   "outputs": [
    {
     "data": {
      "text/html": [
       "<div>\n",
       "<style scoped>\n",
       "    .dataframe tbody tr th:only-of-type {\n",
       "        vertical-align: middle;\n",
       "    }\n",
       "\n",
       "    .dataframe tbody tr th {\n",
       "        vertical-align: top;\n",
       "    }\n",
       "\n",
       "    .dataframe thead th {\n",
       "        text-align: right;\n",
       "    }\n",
       "</style>\n",
       "<table border=\"1\" class=\"dataframe\">\n",
       "  <thead>\n",
       "    <tr style=\"text-align: right;\">\n",
       "      <th></th>\n",
       "      <th>mean</th>\n",
       "      <th>sd</th>\n",
       "      <th>hdi_16%</th>\n",
       "      <th>hdi_84%</th>\n",
       "      <th>mcse_mean</th>\n",
       "      <th>mcse_sd</th>\n",
       "      <th>ess_bulk</th>\n",
       "      <th>ess_tail</th>\n",
       "      <th>r_hat</th>\n",
       "    </tr>\n",
       "  </thead>\n",
       "  <tbody>\n",
       "    <tr>\n",
       "      <th>t_max</th>\n",
       "      <td>59725.535156</td>\n",
       "      <td>0.095269</td>\n",
       "      <td>59725.440353</td>\n",
       "      <td>59725.624499</td>\n",
       "      <td>2.723670e-03</td>\n",
       "      <td>1.926380e-03</td>\n",
       "      <td>1254.552492</td>\n",
       "      <td>1270.610049</td>\n",
       "      <td>1.003763</td>\n",
       "    </tr>\n",
       "    <tr>\n",
       "      <th>a4</th>\n",
       "      <td>-0.000022</td>\n",
       "      <td>0.000004</td>\n",
       "      <td>-0.000025</td>\n",
       "      <td>-0.000017</td>\n",
       "      <td>1.200000e-07</td>\n",
       "      <td>9.000000e-08</td>\n",
       "      <td>1074.361135</td>\n",
       "      <td>1275.391088</td>\n",
       "      <td>1.005476</td>\n",
       "    </tr>\n",
       "    <tr>\n",
       "      <th>a3</th>\n",
       "      <td>0.000040</td>\n",
       "      <td>0.000019</td>\n",
       "      <td>0.000023</td>\n",
       "      <td>0.000059</td>\n",
       "      <td>5.700000e-07</td>\n",
       "      <td>4.000000e-07</td>\n",
       "      <td>1169.163916</td>\n",
       "      <td>1243.477570</td>\n",
       "      <td>1.004730</td>\n",
       "    </tr>\n",
       "    <tr>\n",
       "      <th>a2</th>\n",
       "      <td>0.007761</td>\n",
       "      <td>0.000289</td>\n",
       "      <td>0.007445</td>\n",
       "      <td>0.008025</td>\n",
       "      <td>8.560000e-06</td>\n",
       "      <td>6.060000e-06</td>\n",
       "      <td>1131.686993</td>\n",
       "      <td>1622.647317</td>\n",
       "      <td>1.004846</td>\n",
       "    </tr>\n",
       "    <tr>\n",
       "      <th>a0</th>\n",
       "      <td>15.974105</td>\n",
       "      <td>0.003710</td>\n",
       "      <td>15.969856</td>\n",
       "      <td>15.977206</td>\n",
       "      <td>8.714000e-05</td>\n",
       "      <td>6.162000e-05</td>\n",
       "      <td>1815.273513</td>\n",
       "      <td>2452.322369</td>\n",
       "      <td>1.001723</td>\n",
       "    </tr>\n",
       "    <tr>\n",
       "      <th>delta_m_15</th>\n",
       "      <td>0.788460</td>\n",
       "      <td>0.106562</td>\n",
       "      <td>0.685728</td>\n",
       "      <td>0.901523</td>\n",
       "      <td>2.787140e-03</td>\n",
       "      <td>1.976420e-03</td>\n",
       "      <td>1441.965443</td>\n",
       "      <td>1956.674885</td>\n",
       "      <td>1.003317</td>\n",
       "    </tr>\n",
       "  </tbody>\n",
       "</table>\n",
       "</div>"
      ],
      "text/plain": [
       "                    mean        sd       hdi_16%       hdi_84%     mcse_mean  \\\n",
       "t_max       59725.535156  0.095269  59725.440353  59725.624499  2.723670e-03   \n",
       "a4             -0.000022  0.000004     -0.000025     -0.000017  1.200000e-07   \n",
       "a3              0.000040  0.000019      0.000023      0.000059  5.700000e-07   \n",
       "a2              0.007761  0.000289      0.007445      0.008025  8.560000e-06   \n",
       "a0             15.974105  0.003710     15.969856     15.977206  8.714000e-05   \n",
       "delta_m_15      0.788460  0.106562      0.685728      0.901523  2.787140e-03   \n",
       "\n",
       "                 mcse_sd     ess_bulk     ess_tail     r_hat  \n",
       "t_max       1.926380e-03  1254.552492  1270.610049  1.003763  \n",
       "a4          9.000000e-08  1074.361135  1275.391088  1.005476  \n",
       "a3          4.000000e-07  1169.163916  1243.477570  1.004730  \n",
       "a2          6.060000e-06  1131.686993  1622.647317  1.004846  \n",
       "a0          6.162000e-05  1815.273513  2452.322369  1.001723  \n",
       "delta_m_15  1.976420e-03  1441.965443  1956.674885  1.003317  "
      ]
     },
     "execution_count": 89,
     "metadata": {},
     "output_type": "execute_result"
    }
   ],
   "source": [
    "summary_r_peak = az.summary(\n",
    "    trace_peak_r,\n",
    "    hdi_prob=0.68,\n",
    "    round_to=8,\n",
    "    var_names=[var for var in trace_peak_r.posterior.data_vars if not \"mag\" in var],\n",
    ")\n",
    "summary_pred_r_peak = az.summary(\n",
    "    trace_peak_r,\n",
    "    hdi_prob=0.68,\n",
    "    var_names=[var for var in trace_peak_r.posterior.data_vars if \"pred\" in var],\n",
    ")\n",
    "summary_r_peak"
   ]
  },
  {
   "cell_type": "code",
   "execution_count": 90,
   "metadata": {},
   "outputs": [
    {
     "name": "stdout",
     "output_type": "stream",
     "text": [
      "M_g,max = -19.692 +/- 0.014\n",
      "M_r,max = -19.492 +/- 0.004\n"
     ]
    }
   ],
   "source": [
    "leff_g = 4722.74  # AA\n",
    "leff_r = 6339.61  # AA\n",
    "leff_i = 7886.13  # AA\n",
    "print(\n",
    "    \"M_g,max = {:.3f} +/- {:.3f}\".format(\n",
    "        summary_g_peak[\"mean\"].loc[\"a0\"] - calALambda(wv=leff_g, RV=3.1, EBV=ebv) - mu,\n",
    "        summary_g_peak[\"sd\"].loc[\"a0\"],\n",
    "    )\n",
    ")\n",
    "print(\n",
    "    \"M_r,max = {:.3f} +/- {:.3f}\".format(\n",
    "        summary_r_peak[\"mean\"].loc[\"a0\"] - calALambda(wv=leff_r, RV=3.1, EBV=ebv) - mu,\n",
    "        summary_r_peak[\"sd\"].loc[\"a0\"],\n",
    "    )\n",
    ")"
   ]
  },
  {
   "cell_type": "code",
   "execution_count": 94,
   "metadata": {},
   "outputs": [
    {
     "data": {
      "text/plain": [
       "<ErrorbarContainer object of 3 artists>"
      ]
     },
     "execution_count": 94,
     "metadata": {},
     "output_type": "execute_result"
    },
    {
     "data": {
      "image/png": "[encoded data removed]",
      "text/plain": [
       "<Figure size 576x576 with 2 Axes>"
      ]
     },
     "metadata": {
      "needs_background": "light"
     },
     "output_type": "display_data"
    }
   ],
   "source": [
    "fig, ax = plt.subplots(2, 1, figsize=(8, 8), sharex=True, constrained_layout=True)\n",
    "# pred_ZTF = summary_pred.loc[summary_.index[:100]]\n",
    "# pred_ATLAS = summary_pred.loc[summary_pred.index[100:]]\n",
    "ax[0].plot(\n",
    "    np.linspace(-10, 20, 100) + 59723.94,\n",
    "    summary_pred_g_peak[\"mean\"],\n",
    "    color=\"k\",\n",
    ")\n",
    "ax[0].fill_between(\n",
    "    np.linspace(-10, 20, 100) + 59723.94,\n",
    "    summary_pred_g_peak[\"hdi_16%\"],\n",
    "    summary_pred_g_peak[\"hdi_84%\"],\n",
    "    color=\"0.5\",\n",
    "    alpha=0.5,\n",
    ")\n",
    "ax[0].errorbar(\n",
    "    joj_ZTF_g_peak[\"MJD\"].values,\n",
    "    joj_ZTF_g_peak[\"mag\"].values,\n",
    "    yerr=joj_ZTF_g_peak[\"mag_err_l\"].values,\n",
    "    fmt=\"o\",\n",
    ")\n",
    "\n",
    "ax[1].plot(\n",
    "    np.linspace(-10, 20, 100)[:80] + 59725.05,\n",
    "    summary_pred_r_peak[\"mean\"][:80],\n",
    "    color=\"k\",\n",
    ")\n",
    "ax[1].fill_between(\n",
    "    np.linspace(-10, 20, 100)[:80] + 59725.05,\n",
    "    summary_pred_r_peak[\"hdi_16%\"][:80],\n",
    "    summary_pred_r_peak[\"hdi_84%\"][:80],\n",
    "    color=\"0.5\",\n",
    "    alpha=0.5,\n",
    ")\n",
    "ax[1].errorbar(\n",
    "    joj_ZTF_r_peak[\"MJD\"].values[:80],\n",
    "    joj_ZTF_r_peak[\"mag\"].values[:80],\n",
    "    yerr=joj_ZTF_r_peak[\"mag_err_l\"].values[:80],\n",
    "    fmt=\"o\",\n",
    ")"
   ]
  },
  {
   "attachments": {},
   "cell_type": "markdown",
   "metadata": {},
   "source": [
    "## Fit other SNe"
   ]
  },
  {
   "cell_type": "code",
   "execution_count": 95,
   "metadata": {},
   "outputs": [
    {
     "name": "stderr",
     "output_type": "stream",
     "text": [
      "Auto-assigning NUTS sampler...\n",
      "Initializing NUTS using jitter+adapt_diag...\n",
      "Multiprocess sampling (4 chains in 4 jobs)\n",
      "NUTS: [t_max, a4, a3, a2, a0]\n"
     ]
    },
    {
     "name": "stderr",
     "output_type": "stream",
     "text": [
      "Sampling 4 chains for 2_000 tune and 1_000 draw iterations (8_000 + 4_000 draws total) took 25 seconds.\n"
     ]
    }
   ],
   "source": [
    "# SN 2011fe\n",
    "g_fe = np.loadtxt(\"./SN2011fe/SN2011fe_g_synthetic.dat\")\n",
    "\n",
    "t_fl_fe = 55796.687\n",
    "t_max_mjd_fe = 55814.5\n",
    "\n",
    "fe_g_peak = g_fe[\n",
    "    ((g_fe[:, 0] - t_max_mjd_fe) / (1 + 0.0008) <= 20)\n",
    "    & ((g_fe[:, 0] - t_max_mjd_fe) / (1 + 0.0008) >= -10)\n",
    "]\n",
    "\n",
    "trace_peak_fe = peak_poly_fit(\n",
    "    MJD=fe_g_peak[:, 0],\n",
    "    mag_obs=fe_g_peak[:, 1],\n",
    "    mag_obs_unc=fe_g_peak[:, 2],\n",
    "    z=0.0008,\n",
    "    t_max_0=t_max_mjd_fe\n",
    ")"
   ]
  },
  {
   "cell_type": "code",
   "execution_count": 97,
   "metadata": {},
   "outputs": [
    {
     "data": {
      "text/html": [
       "<div>\n",
       "<style scoped>\n",
       "    .dataframe tbody tr th:only-of-type {\n",
       "        vertical-align: middle;\n",
       "    }\n",
       "\n",
       "    .dataframe tbody tr th {\n",
       "        vertical-align: top;\n",
       "    }\n",
       "\n",
       "    .dataframe thead th {\n",
       "        text-align: right;\n",
       "    }\n",
       "</style>\n",
       "<table border=\"1\" class=\"dataframe\">\n",
       "  <thead>\n",
       "    <tr style=\"text-align: right;\">\n",
       "      <th></th>\n",
       "      <th>mean</th>\n",
       "      <th>sd</th>\n",
       "      <th>hdi_16%</th>\n",
       "      <th>hdi_84%</th>\n",
       "      <th>mcse_mean</th>\n",
       "      <th>mcse_sd</th>\n",
       "      <th>ess_bulk</th>\n",
       "      <th>ess_tail</th>\n",
       "      <th>r_hat</th>\n",
       "    </tr>\n",
       "  </thead>\n",
       "  <tbody>\n",
       "    <tr>\n",
       "      <th>t_max</th>\n",
       "      <td>55814.874559</td>\n",
       "      <td>5.682200e-04</td>\n",
       "      <td>55814.873948</td>\n",
       "      <td>55814.875068</td>\n",
       "      <td>1.710000e-05</td>\n",
       "      <td>1.209000e-05</td>\n",
       "      <td>1116.425404</td>\n",
       "      <td>1358.064203</td>\n",
       "      <td>1.002746</td>\n",
       "    </tr>\n",
       "    <tr>\n",
       "      <th>a4</th>\n",
       "      <td>0.000010</td>\n",
       "      <td>1.000000e-08</td>\n",
       "      <td>0.000010</td>\n",
       "      <td>0.000010</td>\n",
       "      <td>0.000000e+00</td>\n",
       "      <td>0.000000e+00</td>\n",
       "      <td>1271.189027</td>\n",
       "      <td>1866.280974</td>\n",
       "      <td>1.002485</td>\n",
       "    </tr>\n",
       "    <tr>\n",
       "      <th>a3</th>\n",
       "      <td>-0.000340</td>\n",
       "      <td>1.200000e-07</td>\n",
       "      <td>-0.000340</td>\n",
       "      <td>-0.000339</td>\n",
       "      <td>0.000000e+00</td>\n",
       "      <td>0.000000e+00</td>\n",
       "      <td>1095.815042</td>\n",
       "      <td>1545.754375</td>\n",
       "      <td>1.003119</td>\n",
       "    </tr>\n",
       "    <tr>\n",
       "      <th>a2</th>\n",
       "      <td>0.006486</td>\n",
       "      <td>7.400000e-07</td>\n",
       "      <td>0.006485</td>\n",
       "      <td>0.006486</td>\n",
       "      <td>2.000000e-08</td>\n",
       "      <td>1.000000e-08</td>\n",
       "      <td>1675.532353</td>\n",
       "      <td>2259.011574</td>\n",
       "      <td>1.002272</td>\n",
       "    </tr>\n",
       "    <tr>\n",
       "      <th>a0</th>\n",
       "      <td>9.890724</td>\n",
       "      <td>2.240000e-05</td>\n",
       "      <td>9.890703</td>\n",
       "      <td>9.890746</td>\n",
       "      <td>5.300000e-07</td>\n",
       "      <td>3.800000e-07</td>\n",
       "      <td>1786.209394</td>\n",
       "      <td>2234.362789</td>\n",
       "      <td>1.000446</td>\n",
       "    </tr>\n",
       "    <tr>\n",
       "      <th>delta_m_15</th>\n",
       "      <td>0.796856</td>\n",
       "      <td>8.347000e-05</td>\n",
       "      <td>0.796770</td>\n",
       "      <td>0.796934</td>\n",
       "      <td>2.200000e-06</td>\n",
       "      <td>1.550000e-06</td>\n",
       "      <td>1452.120122</td>\n",
       "      <td>2260.022658</td>\n",
       "      <td>1.001483</td>\n",
       "    </tr>\n",
       "  </tbody>\n",
       "</table>\n",
       "</div>"
      ],
      "text/plain": [
       "                    mean            sd       hdi_16%       hdi_84%  \\\n",
       "t_max       55814.874559  5.682200e-04  55814.873948  55814.875068   \n",
       "a4              0.000010  1.000000e-08      0.000010      0.000010   \n",
       "a3             -0.000340  1.200000e-07     -0.000340     -0.000339   \n",
       "a2              0.006486  7.400000e-07      0.006485      0.006486   \n",
       "a0              9.890724  2.240000e-05      9.890703      9.890746   \n",
       "delta_m_15      0.796856  8.347000e-05      0.796770      0.796934   \n",
       "\n",
       "               mcse_mean       mcse_sd     ess_bulk     ess_tail     r_hat  \n",
       "t_max       1.710000e-05  1.209000e-05  1116.425404  1358.064203  1.002746  \n",
       "a4          0.000000e+00  0.000000e+00  1271.189027  1866.280974  1.002485  \n",
       "a3          0.000000e+00  0.000000e+00  1095.815042  1545.754375  1.003119  \n",
       "a2          2.000000e-08  1.000000e-08  1675.532353  2259.011574  1.002272  \n",
       "a0          5.300000e-07  3.800000e-07  1786.209394  2234.362789  1.000446  \n",
       "delta_m_15  2.200000e-06  1.550000e-06  1452.120122  2260.022658  1.001483  "
      ]
     },
     "execution_count": 97,
     "metadata": {},
     "output_type": "execute_result"
    },
    {
     "data": {
      "image/png": "[encoded data removed]",
      "text/plain": [
       "<Figure size 576x288 with 1 Axes>"
      ]
     },
     "metadata": {
      "needs_background": "light"
     },
     "output_type": "display_data"
    }
   ],
   "source": [
    "summary_fe = az.summary(\n",
    "    trace_peak_fe,\n",
    "    hdi_prob=0.68,\n",
    "    round_to=8,\n",
    "    var_names=[var for var in trace_peak_fe.posterior.data_vars if not \"mag\" in var],\n",
    ")\n",
    "summary_pred_fe = az.summary(\n",
    "    trace_peak_fe,\n",
    "    hdi_prob=0.68,\n",
    "    var_names=[var for var in trace_peak_fe.posterior.data_vars if \"pred\" in var],\n",
    ")\n",
    "MJD_pred = np.linspace(-10, 20, 100) + t_max_mjd_fe\n",
    "fig, ax = plt.subplots(figsize=(8, 4), sharex=True, constrained_layout=True)\n",
    "# pred_ZTF = summary_pred.loc[summary_.index[:100]]\n",
    "# pred_ATLAS = summary_pred.loc[summary_pred.index[100:]]\n",
    "ax.plot(\n",
    "    MJD_pred,\n",
    "    summary_pred_fe[\"mean\"],\n",
    "    color=\"k\",\n",
    ")\n",
    "ax.fill_between(\n",
    "    MJD_pred,\n",
    "    summary_pred_fe[\"hdi_16%\"],\n",
    "    summary_pred_fe[\"hdi_84%\"],\n",
    "    color=\"0.5\",\n",
    "    alpha=0.5,\n",
    ")\n",
    "ax.errorbar(\n",
    "    fe_g_peak[:, 0],\n",
    "    fe_g_peak[:, 1],\n",
    "    yerr=fe_g_peak[:, 2],\n",
    "    fmt=\"o\",\n",
    ")\n",
    "summary_fe"
   ]
  },
  {
   "cell_type": "code",
   "execution_count": 102,
   "metadata": {},
   "outputs": [
    {
     "name": "stderr",
     "output_type": "stream",
     "text": [
      "Auto-assigning NUTS sampler...\n",
      "Initializing NUTS using jitter+adapt_diag...\n",
      "Multiprocess sampling (4 chains in 4 jobs)\n",
      "NUTS: [t_max, a4, a3, a2, a0]\n"
     ]
    },
    {
     "name": "stderr",
     "output_type": "stream",
     "text": [
      "Sampling 4 chains for 2_000 tune and 1_000 draw iterations (8_000 + 4_000 draws total) took 25 seconds.\n"
     ]
    }
   ],
   "source": [
    "# SN2018cnw\n",
    "raw = pd.read_csv(\"./color/early18ia/ZTF18abauprj.dat\", sep=\" \")\n",
    "lc_g = np.array(raw)[:, :-1][raw[\"fid\"] == 1]  # determine the first detection\n",
    "\n",
    "cnw_peak = lc_g[\n",
    "    ((lc_g[:, 0]) <= 20)\n",
    "    & ((lc_g[:, 0]) >= -10)\n",
    "]\n",
    "\n",
    "trace_peak_cnw = peak_poly_fit(\n",
    "    MJD=cnw_peak[:, 0],\n",
    "    mag_obs=cnw_peak[:, 1],\n",
    "    mag_obs_unc=cnw_peak[:, 2],\n",
    "    z=0.0242,\n",
    "    t_max_0=0\n",
    ")"
   ]
  },
  {
   "cell_type": "code",
   "execution_count": 103,
   "metadata": {},
   "outputs": [
    {
     "data": {
      "text/html": [
       "<div>\n",
       "<style scoped>\n",
       "    .dataframe tbody tr th:only-of-type {\n",
       "        vertical-align: middle;\n",
       "    }\n",
       "\n",
       "    .dataframe tbody tr th {\n",
       "        vertical-align: top;\n",
       "    }\n",
       "\n",
       "    .dataframe thead th {\n",
       "        text-align: right;\n",
       "    }\n",
       "</style>\n",
       "<table border=\"1\" class=\"dataframe\">\n",
       "  <thead>\n",
       "    <tr style=\"text-align: right;\">\n",
       "      <th></th>\n",
       "      <th>mean</th>\n",
       "      <th>sd</th>\n",
       "      <th>hdi_16%</th>\n",
       "      <th>hdi_84%</th>\n",
       "      <th>mcse_mean</th>\n",
       "      <th>mcse_sd</th>\n",
       "      <th>ess_bulk</th>\n",
       "      <th>ess_tail</th>\n",
       "      <th>r_hat</th>\n",
       "    </tr>\n",
       "  </thead>\n",
       "  <tbody>\n",
       "    <tr>\n",
       "      <th>t_max</th>\n",
       "      <td>0.566898</td>\n",
       "      <td>8.126525e-02</td>\n",
       "      <td>0.487946</td>\n",
       "      <td>0.647095</td>\n",
       "      <td>2.483230e-03</td>\n",
       "      <td>1.772810e-03</td>\n",
       "      <td>1078.999064</td>\n",
       "      <td>1114.562650</td>\n",
       "      <td>1.000756</td>\n",
       "    </tr>\n",
       "    <tr>\n",
       "      <th>a4</th>\n",
       "      <td>0.000002</td>\n",
       "      <td>5.300000e-07</td>\n",
       "      <td>0.000001</td>\n",
       "      <td>0.000002</td>\n",
       "      <td>2.000000e-08</td>\n",
       "      <td>1.000000e-08</td>\n",
       "      <td>1092.914348</td>\n",
       "      <td>1350.077628</td>\n",
       "      <td>1.001715</td>\n",
       "    </tr>\n",
       "    <tr>\n",
       "      <th>a3</th>\n",
       "      <td>-0.000116</td>\n",
       "      <td>1.057000e-05</td>\n",
       "      <td>-0.000127</td>\n",
       "      <td>-0.000106</td>\n",
       "      <td>3.300000e-07</td>\n",
       "      <td>2.300000e-07</td>\n",
       "      <td>1032.888157</td>\n",
       "      <td>1069.684666</td>\n",
       "      <td>1.001163</td>\n",
       "    </tr>\n",
       "    <tr>\n",
       "      <th>a2</th>\n",
       "      <td>0.004794</td>\n",
       "      <td>5.639000e-05</td>\n",
       "      <td>0.004729</td>\n",
       "      <td>0.004841</td>\n",
       "      <td>1.310000e-06</td>\n",
       "      <td>9.300000e-07</td>\n",
       "      <td>1842.342489</td>\n",
       "      <td>2047.046874</td>\n",
       "      <td>0.999653</td>\n",
       "    </tr>\n",
       "    <tr>\n",
       "      <th>a0</th>\n",
       "      <td>-19.564166</td>\n",
       "      <td>2.522390e-03</td>\n",
       "      <td>-19.566477</td>\n",
       "      <td>-19.561455</td>\n",
       "      <td>5.866000e-05</td>\n",
       "      <td>4.149000e-05</td>\n",
       "      <td>1844.556874</td>\n",
       "      <td>1931.542814</td>\n",
       "      <td>0.999544</td>\n",
       "    </tr>\n",
       "    <tr>\n",
       "      <th>delta_m_15</th>\n",
       "      <td>0.772198</td>\n",
       "      <td>9.266650e-03</td>\n",
       "      <td>0.762895</td>\n",
       "      <td>0.781066</td>\n",
       "      <td>2.681400e-04</td>\n",
       "      <td>1.898300e-04</td>\n",
       "      <td>1200.510184</td>\n",
       "      <td>1540.572984</td>\n",
       "      <td>1.001374</td>\n",
       "    </tr>\n",
       "  </tbody>\n",
       "</table>\n",
       "</div>"
      ],
      "text/plain": [
       "                 mean            sd    hdi_16%    hdi_84%     mcse_mean  \\\n",
       "t_max        0.566898  8.126525e-02   0.487946   0.647095  2.483230e-03   \n",
       "a4           0.000002  5.300000e-07   0.000001   0.000002  2.000000e-08   \n",
       "a3          -0.000116  1.057000e-05  -0.000127  -0.000106  3.300000e-07   \n",
       "a2           0.004794  5.639000e-05   0.004729   0.004841  1.310000e-06   \n",
       "a0         -19.564166  2.522390e-03 -19.566477 -19.561455  5.866000e-05   \n",
       "delta_m_15   0.772198  9.266650e-03   0.762895   0.781066  2.681400e-04   \n",
       "\n",
       "                 mcse_sd     ess_bulk     ess_tail     r_hat  \n",
       "t_max       1.772810e-03  1078.999064  1114.562650  1.000756  \n",
       "a4          1.000000e-08  1092.914348  1350.077628  1.001715  \n",
       "a3          2.300000e-07  1032.888157  1069.684666  1.001163  \n",
       "a2          9.300000e-07  1842.342489  2047.046874  0.999653  \n",
       "a0          4.149000e-05  1844.556874  1931.542814  0.999544  \n",
       "delta_m_15  1.898300e-04  1200.510184  1540.572984  1.001374  "
      ]
     },
     "execution_count": 103,
     "metadata": {},
     "output_type": "execute_result"
    },
    {
     "data": {
      "image/png": "[encoded data removed]",
      "text/plain": [
       "<Figure size 576x288 with 1 Axes>"
      ]
     },
     "metadata": {
      "needs_background": "light"
     },
     "output_type": "display_data"
    }
   ],
   "source": [
    "summary_cnw = az.summary(\n",
    "    trace_peak_cnw,\n",
    "    hdi_prob=0.68,\n",
    "    round_to=8,\n",
    "    var_names=[var for var in trace_peak_cnw.posterior.data_vars if not \"mag\" in var],\n",
    ")\n",
    "summary_pred_cnw = az.summary(\n",
    "    trace_peak_cnw,\n",
    "    hdi_prob=0.68,\n",
    "    var_names=[var for var in trace_peak_cnw.posterior.data_vars if \"pred\" in var],\n",
    ")\n",
    "MJD_pred = np.linspace(-10, 20, 100)\n",
    "fig, ax = plt.subplots(figsize=(8, 4), sharex=True, constrained_layout=True)\n",
    "# pred_ZTF = summary_pred.loc[summary_.index[:100]]\n",
    "# pred_ATLAS = summary_pred.loc[summary_pred.index[100:]]\n",
    "ax.plot(\n",
    "    MJD_pred,\n",
    "    summary_pred_cnw[\"mean\"],\n",
    "    color=\"k\",\n",
    ")\n",
    "ax.fill_between(\n",
    "    MJD_pred,\n",
    "    summary_pred_cnw[\"hdi_16%\"],\n",
    "    summary_pred_cnw[\"hdi_84%\"],\n",
    "    color=\"0.5\",\n",
    "    alpha=0.5,\n",
    ")\n",
    "ax.errorbar(\n",
    "    cnw_peak[:, 0],\n",
    "    cnw_peak[:, 1],\n",
    "    yerr=cnw_peak[:, 2],\n",
    "    fmt=\"o\",\n",
    ")\n",
    "summary_cnw"
   ]
  },
  {
   "cell_type": "code",
   "execution_count": null,
   "metadata": {},
   "outputs": [],
   "source": []
  }
 ],
 "metadata": {
  "kernelspec": {
   "display_name": "astron",
   "language": "python",
   "name": "python3"
  },
  "language_info": {
   "codemirror_mode": {
    "name": "ipython",
    "version": 3
   },
   "file_extension": ".py",
   "mimetype": "text/x-python",
   "name": "python",
   "nbconvert_exporter": "python",
   "pygments_lexer": "ipython3",
   "version": "3.10.5"
  },
  "latex_envs": {
   "LaTeX_envs_menu_present": true,
   "autoclose": false,
   "autocomplete": true,
   "bibliofile": "biblio.bib",
   "cite_by": "apalike",
   "current_citInitial": 1,
   "eqLabelWithNumbers": true,
   "eqNumInitial": 1,
   "hotkeys": {
    "equation": "Ctrl-E",
    "itemize": "Ctrl-I"
   },
   "labels_anchors": false,
   "latex_user_defs": false,
   "report_style_numbering": false,
   "user_envs_cfg": false
  },
  "vscode": {
   "interpreter": {
    "hash": "cf4a5838013df55b6379ff723fd8d3f5b26eb681b501fef2afa11b456e1cd9a7"
   }
  }
 },
 "nbformat": 4,
 "nbformat_minor": 4
}
