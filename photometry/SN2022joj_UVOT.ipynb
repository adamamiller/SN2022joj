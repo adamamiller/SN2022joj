{
 "cells": [
  {
   "cell_type": "code",
   "execution_count": 1,
   "metadata": {
    "ExecuteTime": {
     "end_time": "2023-03-15T02:35:04.015442Z",
     "start_time": "2023-03-15T02:35:03.451607Z"
    }
   },
   "outputs": [],
   "source": [
    "import astropy.units as u\n",
    "import astropy.constants as const\n",
    "import numpy as np\n",
    "import matplotlib.pyplot as plt\n",
    "from astropy.io import fits"
   ]
  },
  {
   "cell_type": "code",
   "execution_count": 2,
   "metadata": {
    "ExecuteTime": {
     "end_time": "2023-03-15T02:35:04.679686Z",
     "start_time": "2023-03-15T02:35:04.662145Z"
    }
   },
   "outputs": [],
   "source": [
    "import matplotlib as mpl\n",
    "from matplotlib.ticker import MultipleLocator\n",
    "\n",
    "color_map = {\n",
    "    \"green1\": \"#66c2a5\",\n",
    "    \"orange\": \"#fc8d62\",\n",
    "    \"blue\": \"#8da0cb\",\n",
    "    \"pink\": \"#e78ac3\",\n",
    "    \"green2\": \"#a6d854\",\n",
    "    \"yellow\": \"#ffd92f\",\n",
    "    \"brown\": \"#e5c494\",\n",
    "    \"grey\": \"#b3b3b3\",\n",
    "}"
   ]
  },
  {
   "cell_type": "code",
   "execution_count": 3,
   "metadata": {
    "ExecuteTime": {
     "end_time": "2023-03-15T02:35:31.960619Z",
     "start_time": "2023-03-15T02:35:31.945392Z"
    }
   },
   "outputs": [],
   "source": [
    "import glob\n",
    "import os\n",
    "import sys\n",
    "sys.path.append('../tools/')\n",
    "\n",
    "from dust_extinction import calALambda\n",
    "from spec_to_flux import spec_to_flux, spec_to_mag\n",
    "from data_binning import data_binning\n",
    "from visual import rcparams_format\n",
    "\n",
    "rcparams_format(mpl.rcParams)"
   ]
  },
  {
   "attachments": {},
   "cell_type": "markdown",
   "metadata": {},
   "source": [
    "## Distance modulus"
   ]
  },
  {
   "cell_type": "code",
   "execution_count": 4,
   "metadata": {},
   "outputs": [],
   "source": [
    "# SN metadata\n",
    "\n",
    "z = 0.02736\n",
    "z_unc = 0.00007\n",
    "t_max_mjd = 59723.65 # t_0 in salt3\n",
    "ebv = 0.032\n",
    "rv = 3.1\n",
    "\n",
    "# tfl = 58972.46296299994\n"
   ]
  },
  {
   "attachments": {},
   "cell_type": "markdown",
   "metadata": {},
   "source": [
    "### IPAC velocity calculator\n",
    "\n",
    "- $z=0.02736$, $v = cz = 8202.3$ km/s, $v_\\mathrm{CMB} = 8346.4$ km/s"
   ]
  },
  {
   "attachments": {},
   "cell_type": "markdown",
   "metadata": {},
   "source": [
    "### Cosmic flow\n",
    "\n",
    "- $\\Omega_M=0.3$, $h_0=0.7$"
   ]
  },
  {
   "cell_type": "code",
   "execution_count": 5,
   "metadata": {},
   "outputs": [
    {
     "name": "stdout",
     "output_type": "stream",
     "text": [
      "Luminosity distances = 119.49 Mpc\n",
      "Distance modulus = 35.39\n"
     ]
    }
   ],
   "source": [
    "cosmo = np.loadtxt('SN2022joj_cosmo.txt')\n",
    "print('Luminosity distances =', cosmo[6], 'Mpc')\n",
    "\n",
    "mu = 5 * np.log10(cosmo[6] * 1e6 / 10)\n",
    "print('Distance modulus = {:.2f}'.format(mu))\n"
   ]
  },
  {
   "attachments": {},
   "cell_type": "markdown",
   "metadata": {},
   "source": [
    "## Light curves"
   ]
  },
  {
   "cell_type": "code",
   "execution_count": 6,
   "metadata": {},
   "outputs": [],
   "source": [
    "import pandas as pd\n",
    "from astropy.table import Table"
   ]
  },
  {
   "cell_type": "code",
   "execution_count": 7,
   "metadata": {},
   "outputs": [
    {
     "data": {
      "text/html": [
       "<div>\n",
       "<style scoped>\n",
       "    .dataframe tbody tr th:only-of-type {\n",
       "        vertical-align: middle;\n",
       "    }\n",
       "\n",
       "    .dataframe tbody tr th {\n",
       "        vertical-align: top;\n",
       "    }\n",
       "\n",
       "    .dataframe thead th {\n",
       "        text-align: right;\n",
       "    }\n",
       "</style>\n",
       "<table border=\"1\" class=\"dataframe\">\n",
       "  <thead>\n",
       "    <tr style=\"text-align: right;\">\n",
       "      <th></th>\n",
       "      <th>time</th>\n",
       "      <th>flux</th>\n",
       "      <th>fluxerr</th>\n",
       "      <th>mag</th>\n",
       "      <th>mag_unc_u</th>\n",
       "      <th>mag_unc_l</th>\n",
       "      <th>lim</th>\n",
       "      <th>band</th>\n",
       "    </tr>\n",
       "  </thead>\n",
       "  <tbody>\n",
       "    <tr>\n",
       "      <th>1</th>\n",
       "      <td>59716.367164</td>\n",
       "      <td>1136.639</td>\n",
       "      <td>51.97174</td>\n",
       "      <td>16.261009</td>\n",
       "      <td>0.048543</td>\n",
       "      <td>0.050815</td>\n",
       "      <td>0</td>\n",
       "      <td>uvot::b</td>\n",
       "    </tr>\n",
       "    <tr>\n",
       "      <th>7</th>\n",
       "      <td>59720.061211</td>\n",
       "      <td>1538.784</td>\n",
       "      <td>50.03647</td>\n",
       "      <td>15.932121</td>\n",
       "      <td>0.034743</td>\n",
       "      <td>0.035891</td>\n",
       "      <td>0</td>\n",
       "      <td>uvot::b</td>\n",
       "    </tr>\n",
       "    <tr>\n",
       "      <th>13</th>\n",
       "      <td>59720.458733</td>\n",
       "      <td>1551.404</td>\n",
       "      <td>49.66836</td>\n",
       "      <td>15.923253</td>\n",
       "      <td>0.034215</td>\n",
       "      <td>0.035329</td>\n",
       "      <td>0</td>\n",
       "      <td>uvot::b</td>\n",
       "    </tr>\n",
       "    <tr>\n",
       "      <th>19</th>\n",
       "      <td>59722.744811</td>\n",
       "      <td>1601.018</td>\n",
       "      <td>47.21167</td>\n",
       "      <td>15.889075</td>\n",
       "      <td>0.031554</td>\n",
       "      <td>0.032498</td>\n",
       "      <td>0</td>\n",
       "      <td>uvot::b</td>\n",
       "    </tr>\n",
       "    <tr>\n",
       "      <th>0</th>\n",
       "      <td>59716.371912</td>\n",
       "      <td>1022.627</td>\n",
       "      <td>83.56262</td>\n",
       "      <td>16.375772</td>\n",
       "      <td>0.085281</td>\n",
       "      <td>0.092555</td>\n",
       "      <td>0</td>\n",
       "      <td>uvot::v</td>\n",
       "    </tr>\n",
       "    <tr>\n",
       "      <th>6</th>\n",
       "      <td>59720.065345</td>\n",
       "      <td>1414.110</td>\n",
       "      <td>75.12651</td>\n",
       "      <td>16.023857</td>\n",
       "      <td>0.056201</td>\n",
       "      <td>0.059270</td>\n",
       "      <td>0</td>\n",
       "      <td>uvot::v</td>\n",
       "    </tr>\n",
       "    <tr>\n",
       "      <th>12</th>\n",
       "      <td>59720.461854</td>\n",
       "      <td>1519.245</td>\n",
       "      <td>76.61914</td>\n",
       "      <td>15.945996</td>\n",
       "      <td>0.053420</td>\n",
       "      <td>0.056185</td>\n",
       "      <td>0</td>\n",
       "      <td>uvot::v</td>\n",
       "    </tr>\n",
       "    <tr>\n",
       "      <th>18</th>\n",
       "      <td>59722.750224</td>\n",
       "      <td>1518.869</td>\n",
       "      <td>69.84995</td>\n",
       "      <td>15.946265</td>\n",
       "      <td>0.048817</td>\n",
       "      <td>0.051116</td>\n",
       "      <td>0</td>\n",
       "      <td>uvot::v</td>\n",
       "    </tr>\n",
       "  </tbody>\n",
       "</table>\n",
       "</div>"
      ],
      "text/plain": [
       "            time      flux   fluxerr        mag  mag_unc_u  mag_unc_l  lim  \\\n",
       "1   59716.367164  1136.639  51.97174  16.261009   0.048543   0.050815    0   \n",
       "7   59720.061211  1538.784  50.03647  15.932121   0.034743   0.035891    0   \n",
       "13  59720.458733  1551.404  49.66836  15.923253   0.034215   0.035329    0   \n",
       "19  59722.744811  1601.018  47.21167  15.889075   0.031554   0.032498    0   \n",
       "0   59716.371912  1022.627  83.56262  16.375772   0.085281   0.092555    0   \n",
       "6   59720.065345  1414.110  75.12651  16.023857   0.056201   0.059270    0   \n",
       "12  59720.461854  1519.245  76.61914  15.945996   0.053420   0.056185    0   \n",
       "18  59722.750224  1518.869  69.84995  15.946265   0.048817   0.051116    0   \n",
       "\n",
       "       band  \n",
       "1   uvot::b  \n",
       "7   uvot::b  \n",
       "13  uvot::b  \n",
       "19  uvot::b  \n",
       "0   uvot::v  \n",
       "6   uvot::v  \n",
       "12  uvot::v  \n",
       "18  uvot::v  "
      ]
     },
     "execution_count": 7,
     "metadata": {},
     "output_type": "execute_result"
    }
   ],
   "source": [
    "# UVOT\n",
    "joj_UVOT = pd.read_csv(\n",
    "    \"./UVOT_light_curve.dat\",\n",
    "    delimiter=\" \",\n",
    "    names=[\"time\", \"flux\", \"fluxerr\", \"mag\", \"mag_unc_u\", \"mag_unc_l\", \"lim\", \"band\"],\n",
    ")\n",
    "joj_UVOT_u = joj_UVOT[joj_UVOT[\"band\"] == \"U\"]\n",
    "joj_UVOT_b = joj_UVOT[joj_UVOT[\"band\"] == \"B\"]\n",
    "joj_UVOT_v = joj_UVOT[joj_UVOT[\"band\"] == \"V\"]\n",
    "joj_UVOT_uvw1 = joj_UVOT[joj_UVOT[\"band\"] == \"UW1\"]\n",
    "joj_UVOT_uvw2 = joj_UVOT[joj_UVOT[\"band\"] == \"UW2\"]\n",
    "joj_UVOT_uvm2 = joj_UVOT[joj_UVOT[\"band\"] == \"UM2\"]\n",
    "joj_UVOT_u = joj_UVOT[joj_UVOT[\"band\"] == \"U\"].assign(band=\"uvot::u\")\n",
    "joj_UVOT_b = joj_UVOT[joj_UVOT[\"band\"] == \"B\"].assign(band=\"uvot::b\")\n",
    "joj_UVOT_v = joj_UVOT[joj_UVOT[\"band\"] == \"V\"].assign(band=\"uvot::v\")\n",
    "joj_UVOT = pd.concat([joj_UVOT_b, joj_UVOT_v])\n",
    "joj_UVOT"
   ]
  },
  {
   "cell_type": "code",
   "execution_count": 8,
   "metadata": {},
   "outputs": [],
   "source": [
    "def mag1_mag2(X, Y, bin_size=1, flux=False):\n",
    "    '''\n",
    "    calculate the color using multi-band photometry\n",
    "    \n",
    "    Parameters\n",
    "    ----------\n",
    "    X, Y : array-like\n",
    "        X-, Y-band photometry\n",
    "        column 1 - obs time (day)\n",
    "        column 2 - magnitude/flux\n",
    "        column 3 - (symmetric) uncertainty\n",
    "        column 4 & 5 (optional) - (upper & lower) uncertainty\n",
    "    bin_size : float, default = 1 (day)\n",
    "        the maximum allowed offset of the obs times for the X-\n",
    "        and Y-band photometry to calculate the color\n",
    "    flux : bool, default = False\n",
    "        whether to estimate the color uncertainty from the uncertainty\n",
    "        of flux ratio, needs column 4 & 5 from X, Y\n",
    "    '''\n",
    "    t1, t2 = X[:, 0], Y[:, 0]\n",
    "    if not flux:\n",
    "        mag1, mag2 = X[:, 1], Y[:, 1]\n",
    "        unc1, unc2 = X[:, 2], Y[:, 2]\n",
    "        i, j = 0, 0\n",
    "        T = []\n",
    "        dmag, Unc = [], []\n",
    "        while i < len(t1):\n",
    "            while j < len(t2):\n",
    "                if t2[j] >= t1[i] + bin_size:\n",
    "                    break\n",
    "                if (np.abs(t2[j] - t1[i]) < bin_size):\n",
    "                    t = (t1[i] / unc1[i]**2 + t2[j] / unc2[j]**2) / (\n",
    "                        1 / unc1[i]**2 + 1 / unc2[j]**2)\n",
    "                    mag = (mag1[i] - mag2[j])\n",
    "                    unc = (unc1[i]**2 + unc2[j]**2)**.5\n",
    "                    T = np.append(T, t)\n",
    "                    dmag = np.append(dmag, mag)\n",
    "                    Unc = np.append(Unc, unc)\n",
    "                    break\n",
    "                j += 1\n",
    "            i += 1\n",
    "        arg = np.argwhere(Unc < 999).flatten()\n",
    "        return T[arg], dmag[arg], Unc[arg]\n",
    "    else:\n",
    "        f1, f2 = X[:, 1], Y[:, 1]\n",
    "        f_unc1, f_unc2 = X[:, 2], Y[:, 2]\n",
    "        i, j = 0, 0\n",
    "        T = []\n",
    "        dmag, Unc_u, Unc_l = [], [], []\n",
    "        while i < len(t1):\n",
    "            while j < len(t2):\n",
    "                if t2[j] >= t1[i] + bin_size:\n",
    "                    break\n",
    "                if (np.abs(t2[j] - t1[i]) < bin_size):\n",
    "                    if f1[i] <= f_unc1[i] or f2[j] <= f_unc2[j]:\n",
    "                        j += 1\n",
    "                        continue\n",
    "                    f12 = f1[i] / f2[j]\n",
    "                    f12unc = f12 * ((f_unc1[i] / f1[i])**2 +\n",
    "                                    (f_unc2[j] / f2[j])**2)**.5\n",
    "                    t = (t1[i] / f_unc1[i]**2 + t2[j] / f_unc2[j]**2) / (\n",
    "                        1 / f_unc1[i]**2 + 1 / f_unc2[j]**2)\n",
    "                    T = np.append(T, t)\n",
    "                    dmag = np.append(dmag, -2.5 * np.log10(f12))\n",
    "                    Unc_u = np.append(Unc_u,\n",
    "                                      -2.5 * np.log10(f12 / (f12 + f12unc)))\n",
    "                    Unc_l = np.append(Unc_l, -2.5 * np.log10(\n",
    "                        (f12 - f12unc) / f12))\n",
    "                    break\n",
    "                j += 1\n",
    "            i += 1\n",
    "        arg = np.argwhere(Unc_l < 999).flatten()\n",
    "        return T[arg], dmag[arg], [Unc_u[arg], Unc_l[arg]]"
   ]
  },
  {
   "cell_type": "code",
   "execution_count": 9,
   "metadata": {},
   "outputs": [
    {
     "name": "stdout",
     "output_type": "stream",
     "text": [
      "b - v = -0.09 - 0.06 + 0.06\n",
      "u - v = 1.59 - 0.06 + 0.06\n",
      "uvw1 - v = 3.99 - 0.19 + 0.23\n",
      "uvm2 - uvw1 = 1.52 - 0.33 + 0.48\n"
     ]
    }
   ],
   "source": [
    "leff_uvot_uvw2 = 2075.69\n",
    "leff_uvot_uvm2 = 2246.56\n",
    "leff_uvot_uvw1 = 2715.68\n",
    "leff_uvot_u = 3523.78\n",
    "leff_uvot_b = 4345.96\n",
    "leff_uvot_v = 5412.38\n",
    "# b - v\n",
    "b_v = mag1_mag2(\n",
    "    X=np.array(\n",
    "        [joj_UVOT_b[\"time\"], joj_UVOT_b[\"flux\"], joj_UVOT_b[\"fluxerr\"]]\n",
    "    ).T,\n",
    "    Y=np.array([joj_UVOT_v[\"time\"], joj_UVOT_v[\"flux\"], joj_UVOT_v[\"fluxerr\"]]).T,\n",
    "    bin_size=0.5,\n",
    "    flux=True,\n",
    ")\n",
    "print(\n",
    "    \"b - v = {:.2f} - {:.2f} + {:.2f}\".format(\n",
    "        b_v[1][-1]\n",
    "        - (\n",
    "            calALambda(wv=leff_uvot_b, RV=3.1, EBV=ebv)\n",
    "            - calALambda(wv=leff_uvot_v, RV=3.1, EBV=ebv)\n",
    "        ),\n",
    "        b_v[2][0][-1],\n",
    "        b_v[2][1][-1],\n",
    "    )\n",
    ")\n",
    "\n",
    "# u - v\n",
    "u_v = mag1_mag2(\n",
    "    X=np.array(\n",
    "        [joj_UVOT_u[\"time\"], joj_UVOT_u[\"flux\"], joj_UVOT_u[\"fluxerr\"]]\n",
    "    ).T,\n",
    "    Y=np.array([joj_UVOT_v[\"time\"], joj_UVOT_v[\"flux\"], joj_UVOT_v[\"fluxerr\"]]).T,\n",
    "    bin_size=0.5,\n",
    "    flux=True,\n",
    ")\n",
    "print(\n",
    "    \"u - v = {:.2f} - {:.2f} + {:.2f}\".format(\n",
    "        u_v[1][-1]\n",
    "        - (\n",
    "            calALambda(wv=leff_uvot_u, RV=3.1, EBV=ebv)\n",
    "            - calALambda(wv=leff_uvot_v, RV=3.1, EBV=ebv)\n",
    "        ),\n",
    "        b_v[2][0][-1],\n",
    "        b_v[2][1][-1],\n",
    "    )\n",
    ")\n",
    "\n",
    "# uvw1 - v\n",
    "uvw1_v = mag1_mag2(\n",
    "    X=np.array(\n",
    "        [joj_UVOT_uvw1[\"time\"], joj_UVOT_uvw1[\"flux\"], joj_UVOT_uvw1[\"fluxerr\"]]\n",
    "    ).T,\n",
    "    Y=np.array([joj_UVOT_v[\"time\"], joj_UVOT_v[\"flux\"], joj_UVOT_v[\"fluxerr\"]]).T,\n",
    "    bin_size=0.5,\n",
    "    flux=True,\n",
    ")\n",
    "print(\n",
    "    \"uvw1 - v = {:.2f} - {:.2f} + {:.2f}\".format(\n",
    "        uvw1_v[1][-1]\n",
    "        - (\n",
    "            calALambda(wv=leff_uvot_uvw1, RV=3.1, EBV=ebv)\n",
    "            - calALambda(wv=leff_uvot_v, RV=3.1, EBV=ebv)\n",
    "        ),\n",
    "        uvw1_v[2][0][-1],\n",
    "        uvw1_v[2][1][-1],\n",
    "    )\n",
    ")\n",
    "\n",
    "# uvm2 - uvw1\n",
    "uvm2_uvw1 = mag1_mag2(\n",
    "    X=np.array(\n",
    "        [joj_UVOT_uvm2[\"time\"], joj_UVOT_uvm2[\"flux\"], joj_UVOT_uvm2[\"fluxerr\"]]\n",
    "    ).T,\n",
    "    Y=np.array(\n",
    "        [joj_UVOT_uvw1[\"time\"], joj_UVOT_uvw1[\"flux\"], joj_UVOT_uvw1[\"fluxerr\"]]\n",
    "    ).T,\n",
    "    bin_size=0.5,\n",
    "    flux=True,\n",
    ")\n",
    "print(\n",
    "    \"uvm2 - uvw1 = {:.2f} - {:.2f} + {:.2f}\".format(\n",
    "        uvm2_uvw1[1][-1]\n",
    "        - (\n",
    "            calALambda(wv=leff_uvot_uvw1, RV=3.1, EBV=ebv)\n",
    "            - calALambda(wv=leff_uvot_v, RV=3.1, EBV=ebv)\n",
    "        ),\n",
    "        uvm2_uvw1[2][0][-1],\n",
    "        uvm2_uvw1[2][1][-1],\n",
    "    )\n",
    ")"
   ]
  },
  {
   "cell_type": "code",
   "execution_count": 10,
   "metadata": {},
   "outputs": [
    {
     "data": {
      "image/png": "[encoded data removed]",
      "text/plain": [
       "<Figure size 864x648 with 3 Axes>"
      ]
     },
     "metadata": {
      "needs_background": "light"
     },
     "output_type": "display_data"
    }
   ],
   "source": [
    "fig, ax = plt.subplots(3, 1, figsize=(12, 9), constrained_layout=True, sharex=True)\n",
    "ax[0].errorbar(\n",
    "    b_v[0],\n",
    "    b_v[1]\n",
    "    - (\n",
    "        calALambda(wv=leff_uvot_b, RV=3.1, EBV=ebv)\n",
    "        - calALambda(wv=leff_uvot_v, RV=3.1, EBV=ebv)\n",
    "    ),\n",
    "    yerr=b_v[2],\n",
    "    fmt=\"o\",\n",
    "    capsize=3,\n",
    "    label=\"b - v\",\n",
    ")\n",
    "ax[1].errorbar(\n",
    "    u_v[0],\n",
    "    u_v[1]\n",
    "    - (\n",
    "        calALambda(wv=leff_uvot_u, RV=3.1, EBV=ebv)\n",
    "        - calALambda(wv=leff_uvot_v, RV=3.1, EBV=ebv)\n",
    "    ),\n",
    "    yerr=u_v[2],\n",
    "    fmt=\"o\",\n",
    "    capsize=3,\n",
    "    label=\"u - v\",\n",
    ")\n",
    "ax[2].errorbar(\n",
    "    uvw1_v[0],\n",
    "    uvw1_v[1]\n",
    "    - (\n",
    "        calALambda(wv=leff_uvot_uvw1, RV=3.1, EBV=ebv)\n",
    "        - calALambda(wv=leff_uvot_v, RV=3.1, EBV=ebv)\n",
    "    ),\n",
    "    yerr=uvw1_v[2],\n",
    "    fmt=\"o\",\n",
    "    capsize=3,\n",
    "    label=\"uvw1 - v\",\n",
    ")\n",
    "\n",
    "for a in ax:\n",
    "    a.legend()"
   ]
  },
  {
   "cell_type": "code",
   "execution_count": 11,
   "metadata": {},
   "outputs": [
    {
     "data": {
      "text/plain": [
       "(-19.629024047838158,\n",
       " time         59722.744811\n",
       " flux             1601.018\n",
       " fluxerr          47.21167\n",
       " mag             15.889075\n",
       " mag_unc_u        0.031554\n",
       " mag_unc_l        0.032498\n",
       " lim                     0\n",
       " band              uvot::b\n",
       " Name: 19, dtype: object)"
      ]
     },
     "execution_count": 11,
     "metadata": {},
     "output_type": "execute_result"
    }
   ],
   "source": [
    "joj_UVOT_b[\"mag\"].min() - mu - calALambda(\n",
    "    wv=leff_uvot_b, RV=3.1, EBV=ebv\n",
    "), joj_UVOT_b.loc[joj_UVOT_b.index[joj_UVOT_b[\"mag\"].argmin()]]"
   ]
  },
  {
   "cell_type": "code",
   "execution_count": 12,
   "metadata": {},
   "outputs": [
    {
     "data": {
      "text/plain": [
       "(-17.979746583538635,\n",
       " time         59720.060356\n",
       " flux              342.684\n",
       " fluxerr          18.56192\n",
       " mag             17.562831\n",
       " mag_unc_u        0.057273\n",
       " mag_unc_l        0.060463\n",
       " lim                     0\n",
       " band              uvot::u\n",
       " Name: 8, dtype: object)"
      ]
     },
     "execution_count": 12,
     "metadata": {},
     "output_type": "execute_result"
    }
   ],
   "source": [
    "joj_UVOT_u[\"mag\"].min() - mu - calALambda(\n",
    "    wv=leff_uvot_u, RV=3.1, EBV=ebv\n",
    "), joj_UVOT_u.loc[joj_UVOT_u.index[joj_UVOT_u[\"mag\"].argmin()]]"
   ]
  },
  {
   "cell_type": "code",
   "execution_count": 13,
   "metadata": {},
   "outputs": [],
   "source": [
    "with open(\"./UVOT_sample.txt\", \"r\") as f:\n",
    "    lines = f.readlines()\n",
    "UVOT_mag_sample = np.empty((5, 28))\n",
    "UVOT_mag_err_sample = np.empty((5, 28))\n",
    "\n",
    "k = 0\n",
    "for line in lines:\n",
    "    if line.split()[0][0] == '#': continue\n",
    "    line = line.replace(\"−\", \"-\")\n",
    "    line = line.replace(\"L\", \"nan\")\n",
    "    dat = line.split()\n",
    "    mag = [float(d.split(\"\\uf0a0\")[0]) for d in dat]\n",
    "    mag_err = [float(d.split(\"\\uf0a0\")[-1]) for d in dat]\n",
    "    UVOT_mag_sample[k, :] = mag\n",
    "    UVOT_mag_err_sample[k, :] = mag_err\n",
    "    k += 1"
   ]
  },
  {
   "cell_type": "code",
   "execution_count": 36,
   "metadata": {},
   "outputs": [
    {
     "data": {
      "image/png": "[encoded data removed]",
      "text/plain": [
       "<Figure size 1296x432 with 3 Axes>"
      ]
     },
     "metadata": {
      "needs_background": "light"
     },
     "output_type": "display_data"
    }
   ],
   "source": [
    "fig, ax = plt.subplots(1, 3, figsize=(18, 6), constrained_layout=True, sharey=True)\n",
    "ax[0].errorbar(\n",
    "    UVOT_mag_sample[2, :],\n",
    "    UVOT_mag_sample[1, :],\n",
    "    fmt=\"o\",\n",
    "    xerr=UVOT_mag_err_sample[2, :],\n",
    "    yerr=UVOT_mag_err_sample[1, :],\n",
    "    capsize=3,\n",
    "    color=\"0.8\",\n",
    ")\n",
    "ax[1].errorbar(\n",
    "    UVOT_mag_sample[3, :],\n",
    "    UVOT_mag_sample[1, :],\n",
    "    fmt=\"o\",\n",
    "    xerr=UVOT_mag_err_sample[3, :],\n",
    "    yerr=UVOT_mag_err_sample[1, :],\n",
    "    capsize=3,\n",
    "    color=\"0.8\",\n",
    ")\n",
    "ax[2].errorbar(\n",
    "    UVOT_mag_sample[4, :],\n",
    "    UVOT_mag_sample[1, :],\n",
    "    fmt=\"o\",\n",
    "    xerr=UVOT_mag_err_sample[4, :],\n",
    "    yerr=UVOT_mag_err_sample[1, :],\n",
    "    capsize=3,\n",
    "    color=\"0.8\",\n",
    ")\n",
    "\n",
    "# b - v = -0.09 - 0.06 + 0.06\n",
    "# u - v = 1.59 - 0.06 + 0.06\n",
    "# uvw1 - v = 3.99 - 0.19 + 0.23\n",
    "# uvm2 - uvw1 = 1.52 - 0.33 + 0.48\n",
    "\n",
    "color_style = dict(\n",
    "    fmt=\"*\",\n",
    "    ms=20,\n",
    "    color=\"k\",\n",
    "    capsize=5,\n",
    "    markerfacecolor=\"w\",\n",
    "    zorder=10,\n",
    "    linewidth=1,\n",
    "    markeredgewidth=2.5,\n",
    ")\n",
    "arrow_style = dict(\n",
    "    arrowprops={\"arrowstyle\": \"->, head_width=.3, head_length=.6\", \"linestyle\": \"-\", \"linewidth\":1.},\n",
    "    text=\"\",\n",
    "    ha=\"center\",\n",
    "    va=\"center\",\n",
    ")\n",
    "\n",
    "ax[0].errorbar(1.59, -0.09, xerr=0.06, yerr=0.06, **color_style)\n",
    "ax[0].annotate(\n",
    "    xy=(1.59, .2),\n",
    "    xytext=(\n",
    "        1.59\n",
    "        - (\n",
    "            calALambda(leff_uvot_u, EBV=1 / 3.1, RV=3.1)\n",
    "            - calALambda(leff_uvot_v, EBV=1 / 3.1, RV=3.1)\n",
    "        ),\n",
    "        .2\n",
    "        - (\n",
    "            calALambda(leff_uvot_b, EBV=1 / 3.1, RV=3.1)\n",
    "            - calALambda(leff_uvot_v, EBV=1 / 3.1, RV=3.1)\n",
    "        ),\n",
    "    ),\n",
    "    **arrow_style,\n",
    ")\n",
    "ax[0].text(\n",
    "    1.5, 0.23, r\"$A_{V,\\mathrm{host}} = 1\\,\\mathrm{mag}$\", fontsize=18, ha=\"center\"\n",
    ")\n",
    "\n",
    "ax[1].errorbar(3.99, -0.09, xerr=[[0.19], [0.23]], yerr=0.06, **color_style)\n",
    "ax[1].annotate(\n",
    "    xy=(3.99, .2),\n",
    "    xytext=(\n",
    "        3.99\n",
    "        - (\n",
    "            calALambda(leff_uvot_uvw1, EBV=1 / 3.1, RV=3.1)\n",
    "            - calALambda(leff_uvot_v, EBV=1 / 3.1, RV=3.1)\n",
    "        ),\n",
    "        .2\n",
    "        - (\n",
    "            calALambda(leff_uvot_b, EBV=1 / 3.1, RV=3.1)\n",
    "            - calALambda(leff_uvot_v, EBV=1 / 3.1, RV=3.1)\n",
    "        ),\n",
    "    ),\n",
    "    **arrow_style,\n",
    ")\n",
    "ax[2].errorbar(1.52, -0.09, xerr=[[0.33], [0.58]], yerr=0.06, **color_style)\n",
    "ax[2].annotate(\n",
    "    xy=(1.52, .2),\n",
    "    xytext=(\n",
    "        1.52\n",
    "        - (\n",
    "            calALambda(leff_uvot_uvm2, EBV=1 / 3.1, RV=3.1)\n",
    "            - calALambda(leff_uvot_uvw1, EBV=1 / 3.1, RV=3.1)\n",
    "        ),\n",
    "        .2\n",
    "        - (\n",
    "            calALambda(leff_uvot_b, EBV=1 / 3.1, RV=3.1)\n",
    "            - calALambda(leff_uvot_v, EBV=1 / 3.1, RV=3.1)\n",
    "        ),\n",
    "    ),\n",
    "    **arrow_style,\n",
    ")\n",
    "ax[0].set_xlabel(\"$u - v\\,[\\mathrm{mag}]$\")\n",
    "ax[1].set_xlabel(\"$uvw1 - v\\,[\\mathrm{mag}]$\")\n",
    "ax[2].set_xlabel(\"$uvm2 - uvw1\\,[\\mathrm{mag}]$\")\n",
    "ax[0].set_ylabel(\"$b - v\\,[\\mathrm{mag}]$\")\n",
    "\n",
    "for a in ax:\n",
    "    a.xaxis.set_major_locator(MultipleLocator(1))\n",
    "    a.xaxis.set_minor_locator(MultipleLocator(0.2))\n",
    "ax[0].set_xlim(-1.1, 2.1)\n",
    "ax[2].set_xlim(0.3, 3.7)\n",
    "\n",
    "ax[0].yaxis.set_minor_locator(MultipleLocator(0.02))\n",
    "ax[0].set_ylim(-0.21, 0.41)\n",
    "\n",
    "plt.savefig(\"../paper/figures/UVOT_colors.pdf\", bbox_inches=\"tight\")"
   ]
  },
  {
   "cell_type": "code",
   "execution_count": 15,
   "metadata": {},
   "outputs": [
    {
     "data": {
      "text/plain": [
       "Text(0, 0.5, '$F_\\\\lambda\\\\ [\\\\mathrm{erg\\\\,cm^{-2}\\\\,s^{-1}\\\\,\\\\r{A}^{-1}}]$')"
      ]
     },
     "execution_count": 15,
     "metadata": {},
     "output_type": "execute_result"
    },
    {
     "data": {
      "image/png": "[encoded data removed]",
      "text/plain": [
       "<Figure size 864x576 with 1 Axes>"
      ]
     },
     "metadata": {
      "needs_background": "light"
     },
     "output_type": "display_data"
    }
   ],
   "source": [
    "fig, ax = plt.subplots(figsize=(12, 8))\n",
    "spec_syn_0 = np.loadtxt(\"./Shen+21_model/m_1.0_dens_14e5_mu_-67_phase_0_spec.txt\")\n",
    "spec_syn_3 = np.loadtxt(\"./Shen+21_model/m_1.0_dens_14e5_mu_-67_phase_3_spec.txt\")\n",
    "ax.plot(spec_syn_0[:, 0], spec_syn_0[:, 1] * (10e-6 / 114.48) ** 2, lw=1, label='+0 d', color='0.8')\n",
    "ax.plot(spec_syn_3[:, 0], spec_syn_3[:, 1] * (10e-6 / 114.48) ** 2, lw=1, label='+3 d', color='0.2')\n",
    "\n",
    "c = 2.99792458e10\n",
    "ax.scatter(\n",
    "    leff_uvot_b,\n",
    "    joj_UVOT_b[\"flux\"].values[-1] * 1e-6 * 1e-23 * c / (leff_uvot_b**2 * 1e-8), zorder=100, marker='*', s=500\n",
    ")\n",
    "ax.scatter(\n",
    "    leff_uvot_v,\n",
    "    joj_UVOT_v[\"flux\"].values[-1] * 1e-6 * 1e-23 * c / (leff_uvot_v**2 * 1e-8), zorder=100, marker='*', s=500\n",
    ")\n",
    "\n",
    "ax.scatter(\n",
    "    leff_uvot_u,\n",
    "    joj_UVOT_u[\"flux\"].values[-1] * 1e-6 * 1e-23 * c / (leff_uvot_u**2 * 1e-8), zorder=100, marker='*', s=500\n",
    ")\n",
    "ax.scatter(\n",
    "    leff_uvot_uvw1,\n",
    "    joj_UVOT_uvw1[\"flux\"].values[-1] * 1e-6 * 1e-23 * c / (leff_uvot_uvw1**2 * 1e-8), zorder=100, marker='*', s=500\n",
    ")\n",
    "\n",
    "ax.set_xlim(2500, 7000)\n",
    "\n",
    "ax.legend()\n",
    "ax.set_xlabel(r'$\\lambda_\\mathrm{obs}\\ [\\mathrm{\\r{A}}]$')\n",
    "ax.set_ylabel(r'$F_\\lambda\\ [\\mathrm{erg\\,cm^{-2}\\,s^{-1}\\,\\r{A}^{-1}}]$')"
   ]
  },
  {
   "cell_type": "code",
   "execution_count": 16,
   "metadata": {},
   "outputs": [
    {
     "data": {
      "text/plain": [
       "1518.869"
      ]
     },
     "execution_count": 16,
     "metadata": {},
     "output_type": "execute_result"
    }
   ],
   "source": [
    "joj_UVOT_v[\"flux\"].values[-1]"
   ]
  },
  {
   "cell_type": "code",
   "execution_count": null,
   "metadata": {},
   "outputs": [],
   "source": []
  }
 ],
 "metadata": {
  "kernelspec": {
   "display_name": "astron",
   "language": "python",
   "name": "python3"
  },
  "language_info": {
   "codemirror_mode": {
    "name": "ipython",
    "version": 3
   },
   "file_extension": ".py",
   "mimetype": "text/x-python",
   "name": "python",
   "nbconvert_exporter": "python",
   "pygments_lexer": "ipython3",
   "version": "3.10.5"
  },
  "latex_envs": {
   "LaTeX_envs_menu_present": true,
   "autoclose": false,
   "autocomplete": true,
   "bibliofile": "biblio.bib",
   "cite_by": "apalike",
   "current_citInitial": 1,
   "eqLabelWithNumbers": true,
   "eqNumInitial": 1,
   "hotkeys": {
    "equation": "Ctrl-E",
    "itemize": "Ctrl-I"
   },
   "labels_anchors": false,
   "latex_user_defs": false,
   "report_style_numbering": false,
   "user_envs_cfg": false
  },
  "vscode": {
   "interpreter": {
    "hash": "cf4a5838013df55b6379ff723fd8d3f5b26eb681b501fef2afa11b456e1cd9a7"
   }
  }
 },
 "nbformat": 4,
 "nbformat_minor": 4
}
